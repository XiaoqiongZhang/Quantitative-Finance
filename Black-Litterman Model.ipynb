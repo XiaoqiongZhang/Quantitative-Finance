{
 "cells": [
  {
   "cell_type": "markdown",
   "metadata": {},
   "source": [
    "# An Example of Applying Black-Litterman Model\n",
    "*Xiaoqiong(Joan) Zhang*"
   ]
  },
  {
   "cell_type": "markdown",
   "metadata": {},
   "source": [
    "Summary of the Black-Litterman Model\n",
    "\n",
    "1. The equlibirum (excess) return vector $\\pi = \\delta_{eq}\\Sigma w_{eq}$ from the CAPM pricing model, where the equlibrium risk aversion measure $\\delta = \\frac{R_{mkt}-R_f}{\\sigma_{mkt}^2}$, and  is the equlibrium market portfolio.\n",
    "\n",
    "\n",
    "2. The random variable $R$ is the $N *1$ security return vector, and , where  is the expected return vector (with prior distribution), and  is the known covariance matrix.\n",
    "The expected return vector  has the prior distribution , where  measures the uncertainty on the prior, usually we set .\n",
    "The portfolio manager has  active views, which can be written as , where  is the view portfolio matrix,  is the view expected return vector, and , and .\n",
    "The posterior distribution of the expected return vector  given active views  is , where, and .\n",
    "The distribution of the security return vector  conditional on actie views  has been updated to .\n",
    "The optimal weight vector  given a risk aversion measure : ."
   ]
  },
  {
   "cell_type": "code",
   "execution_count": 1,
   "metadata": {},
   "outputs": [],
   "source": [
    "# Load monthly return information for asset class in CAPM model"
   ]
  },
  {
   "cell_type": "code",
   "execution_count": 2,
   "metadata": {},
   "outputs": [],
   "source": [
    "import pandas as pd\n",
    "import numpy as np\n",
    "from scipy.optimize import minimize"
   ]
  },
  {
   "cell_type": "code",
   "execution_count": 3,
   "metadata": {},
   "outputs": [],
   "source": [
    "data = pd.read_excel('CAPM_AssetClasses.xls','MonthlyReturns',header=0,skiprows=1,parse_date=True,index_col=[0])\n",
    "data = data.to_period('M')\n",
    "data.index = data.index.rename('Period')\n",
    "\n",
    "num_month = data.shape[0]\n",
    "ac_name = data.columns\n",
    "num_ac = len(ac_name)"
   ]
  },
  {
   "cell_type": "code",
   "execution_count": 4,
   "metadata": {},
   "outputs": [
    {
     "data": {
      "text/html": [
       "<div>\n",
       "<style scoped>\n",
       "    .dataframe tbody tr th:only-of-type {\n",
       "        vertical-align: middle;\n",
       "    }\n",
       "\n",
       "    .dataframe tbody tr th {\n",
       "        vertical-align: top;\n",
       "    }\n",
       "\n",
       "    .dataframe thead th {\n",
       "        text-align: right;\n",
       "    }\n",
       "</style>\n",
       "<table border=\"1\" class=\"dataframe\">\n",
       "  <thead>\n",
       "    <tr style=\"text-align: right;\">\n",
       "      <th></th>\n",
       "      <th>Bloomberg Barclays - U.S. TIPS Index</th>\n",
       "      <th>Bloomberg Barclays - U.S. Aggregate Index</th>\n",
       "      <th>BofA Merrill Lynch - U.S. High Yield Index</th>\n",
       "      <th>FTSE - Non U.S. Govt Bond Index ($)</th>\n",
       "      <th>Russell - 1000 Growth Index</th>\n",
       "      <th>Russell - 1000 Value Index</th>\n",
       "      <th>Russell - 2000 Growth Index</th>\n",
       "      <th>Russell - 2000 Value Index</th>\n",
       "      <th>MSCI - EAFE Index ($Net)</th>\n",
       "      <th>MSCI - Emerging Markets Index ($ Net)</th>\n",
       "      <th>S&amp;P - GSCI Total Index</th>\n",
       "      <th>MSCI - U.S. REIT Index</th>\n",
       "    </tr>\n",
       "    <tr>\n",
       "      <th>Period</th>\n",
       "      <th></th>\n",
       "      <th></th>\n",
       "      <th></th>\n",
       "      <th></th>\n",
       "      <th></th>\n",
       "      <th></th>\n",
       "      <th></th>\n",
       "      <th></th>\n",
       "      <th></th>\n",
       "      <th></th>\n",
       "      <th></th>\n",
       "      <th></th>\n",
       "    </tr>\n",
       "  </thead>\n",
       "  <tbody>\n",
       "    <tr>\n",
       "      <th>1999-01</th>\n",
       "      <td>1.164369</td>\n",
       "      <td>0.71</td>\n",
       "      <td>1.35</td>\n",
       "      <td>-1.57</td>\n",
       "      <td>5.87</td>\n",
       "      <td>0.80</td>\n",
       "      <td>4.50</td>\n",
       "      <td>-2.27</td>\n",
       "      <td>-0.30</td>\n",
       "      <td>-1.507453</td>\n",
       "      <td>0.440000</td>\n",
       "      <td>-2.685540</td>\n",
       "    </tr>\n",
       "    <tr>\n",
       "      <th>1999-02</th>\n",
       "      <td>-0.698657</td>\n",
       "      <td>-1.75</td>\n",
       "      <td>-0.68</td>\n",
       "      <td>-3.51</td>\n",
       "      <td>-4.57</td>\n",
       "      <td>-1.41</td>\n",
       "      <td>-9.15</td>\n",
       "      <td>-6.83</td>\n",
       "      <td>-2.38</td>\n",
       "      <td>0.963531</td>\n",
       "      <td>-4.600000</td>\n",
       "      <td>-1.644916</td>\n",
       "    </tr>\n",
       "    <tr>\n",
       "      <th>1999-03</th>\n",
       "      <td>-0.014495</td>\n",
       "      <td>0.55</td>\n",
       "      <td>1.16</td>\n",
       "      <td>0.19</td>\n",
       "      <td>5.27</td>\n",
       "      <td>2.07</td>\n",
       "      <td>3.56</td>\n",
       "      <td>-0.82</td>\n",
       "      <td>4.17</td>\n",
       "      <td>13.214558</td>\n",
       "      <td>16.879999</td>\n",
       "      <td>-0.545957</td>\n",
       "    </tr>\n",
       "    <tr>\n",
       "      <th>1999-04</th>\n",
       "      <td>0.661948</td>\n",
       "      <td>0.32</td>\n",
       "      <td>1.83</td>\n",
       "      <td>-0.15</td>\n",
       "      <td>0.13</td>\n",
       "      <td>9.34</td>\n",
       "      <td>8.83</td>\n",
       "      <td>9.13</td>\n",
       "      <td>4.05</td>\n",
       "      <td>12.370000</td>\n",
       "      <td>4.130000</td>\n",
       "      <td>9.669238</td>\n",
       "    </tr>\n",
       "    <tr>\n",
       "      <th>1999-05</th>\n",
       "      <td>0.688692</td>\n",
       "      <td>-0.88</td>\n",
       "      <td>-0.92</td>\n",
       "      <td>-2.02</td>\n",
       "      <td>-3.07</td>\n",
       "      <td>-1.10</td>\n",
       "      <td>0.16</td>\n",
       "      <td>3.07</td>\n",
       "      <td>-5.15</td>\n",
       "      <td>-0.580000</td>\n",
       "      <td>-5.460000</td>\n",
       "      <td>2.119436</td>\n",
       "    </tr>\n",
       "  </tbody>\n",
       "</table>\n",
       "</div>"
      ],
      "text/plain": [
       "         Bloomberg Barclays - U.S. TIPS Index  \\\n",
       "Period                                          \n",
       "1999-01                              1.164369   \n",
       "1999-02                             -0.698657   \n",
       "1999-03                             -0.014495   \n",
       "1999-04                              0.661948   \n",
       "1999-05                              0.688692   \n",
       "\n",
       "         Bloomberg Barclays - U.S. Aggregate Index  \\\n",
       "Period                                               \n",
       "1999-01                                       0.71   \n",
       "1999-02                                      -1.75   \n",
       "1999-03                                       0.55   \n",
       "1999-04                                       0.32   \n",
       "1999-05                                      -0.88   \n",
       "\n",
       "         BofA Merrill Lynch - U.S. High Yield Index  \\\n",
       "Period                                                \n",
       "1999-01                                        1.35   \n",
       "1999-02                                       -0.68   \n",
       "1999-03                                        1.16   \n",
       "1999-04                                        1.83   \n",
       "1999-05                                       -0.92   \n",
       "\n",
       "         FTSE - Non U.S. Govt Bond Index ($)  Russell - 1000 Growth Index  \\\n",
       "Period                                                                      \n",
       "1999-01                                -1.57                         5.87   \n",
       "1999-02                                -3.51                        -4.57   \n",
       "1999-03                                 0.19                         5.27   \n",
       "1999-04                                -0.15                         0.13   \n",
       "1999-05                                -2.02                        -3.07   \n",
       "\n",
       "         Russell - 1000 Value Index  Russell - 2000 Growth Index  \\\n",
       "Period                                                             \n",
       "1999-01                        0.80                         4.50   \n",
       "1999-02                       -1.41                        -9.15   \n",
       "1999-03                        2.07                         3.56   \n",
       "1999-04                        9.34                         8.83   \n",
       "1999-05                       -1.10                         0.16   \n",
       "\n",
       "         Russell - 2000 Value Index  MSCI - EAFE Index ($Net)  \\\n",
       "Period                                                          \n",
       "1999-01                       -2.27                     -0.30   \n",
       "1999-02                       -6.83                     -2.38   \n",
       "1999-03                       -0.82                      4.17   \n",
       "1999-04                        9.13                      4.05   \n",
       "1999-05                        3.07                     -5.15   \n",
       "\n",
       "         MSCI - Emerging Markets Index ($ Net)  S&P - GSCI Total Index  \\\n",
       "Period                                                                   \n",
       "1999-01                              -1.507453                0.440000   \n",
       "1999-02                               0.963531               -4.600000   \n",
       "1999-03                              13.214558               16.879999   \n",
       "1999-04                              12.370000                4.130000   \n",
       "1999-05                              -0.580000               -5.460000   \n",
       "\n",
       "         MSCI - U.S. REIT Index  \n",
       "Period                           \n",
       "1999-01               -2.685540  \n",
       "1999-02               -1.644916  \n",
       "1999-03               -0.545957  \n",
       "1999-04                9.669238  \n",
       "1999-05                2.119436  "
      ]
     },
     "execution_count": 4,
     "metadata": {},
     "output_type": "execute_result"
    }
   ],
   "source": [
    "data.head()"
   ]
  },
  {
   "cell_type": "code",
   "execution_count": 5,
   "metadata": {},
   "outputs": [
    {
     "name": "stdout",
     "output_type": "stream",
     "text": [
      "msrket risk premium (per annum) is  5.0 %\n"
     ]
    }
   ],
   "source": [
    "# Load market portfolio from excel\n",
    "mkt = pd.read_excel('CAPM_AssetClasses.xls','MarketPortfolio',header=1,rows=2)\n",
    "w_mkt = mkt.iloc[0]\n",
    "rp_mkt = mkt.values[2][0]*100\n",
    "print('msrket risk premium (per annum) is ',rp_mkt,'%')"
   ]
  },
  {
   "cell_type": "code",
   "execution_count": 6,
   "metadata": {},
   "outputs": [
    {
     "data": {
      "text/plain": [
       "Bloomberg Barclays - U.S. TIPS Index          0.040\n",
       "Bloomberg Barclays - U.S. Aggregate Index     0.292\n",
       "BofA Merrill Lynch - U.S. High Yield Index    0.030\n",
       "FTSE - Non U.S. Govt Bond Index ($)           0.038\n",
       "Russell - 1000 Growth Index                   0.166\n",
       "Russell - 1000 Value Index                    0.166\n",
       "Russell - 2000 Growth Index                   0.024\n",
       "Russell - 2000 Value Index                    0.024\n",
       "MSCI - EAFE Index ($Net)                      0.120\n",
       "MSCI - Emerging Markets Index ($ Net)         0.045\n",
       "S&P - GSCI Total Index                        0.034\n",
       "MSCI - U.S. REIT Index                        0.021\n",
       "Name: Weight, dtype: float64"
      ]
     },
     "execution_count": 6,
     "metadata": {},
     "output_type": "execute_result"
    }
   ],
   "source": [
    "w_mkt"
   ]
  },
  {
   "cell_type": "markdown",
   "metadata": {},
   "source": [
    "**Using historical returns to calculate the covariance matrix**\n",
    "\n",
    "Note: need to annualize the covariance matrix because we use monthly returns\n"
   ]
  },
  {
   "cell_type": "code",
   "execution_count": 7,
   "metadata": {},
   "outputs": [
    {
     "data": {
      "text/html": [
       "<div>\n",
       "<style scoped>\n",
       "    .dataframe tbody tr th:only-of-type {\n",
       "        vertical-align: middle;\n",
       "    }\n",
       "\n",
       "    .dataframe tbody tr th {\n",
       "        vertical-align: top;\n",
       "    }\n",
       "\n",
       "    .dataframe thead th {\n",
       "        text-align: right;\n",
       "    }\n",
       "</style>\n",
       "<table border=\"1\" class=\"dataframe\">\n",
       "  <thead>\n",
       "    <tr style=\"text-align: right;\">\n",
       "      <th></th>\n",
       "      <th>Bloomberg Barclays - U.S. TIPS Index</th>\n",
       "      <th>Bloomberg Barclays - U.S. Aggregate Index</th>\n",
       "      <th>BofA Merrill Lynch - U.S. High Yield Index</th>\n",
       "      <th>FTSE - Non U.S. Govt Bond Index ($)</th>\n",
       "      <th>Russell - 1000 Growth Index</th>\n",
       "      <th>Russell - 1000 Value Index</th>\n",
       "      <th>Russell - 2000 Growth Index</th>\n",
       "      <th>Russell - 2000 Value Index</th>\n",
       "      <th>MSCI - EAFE Index ($Net)</th>\n",
       "      <th>MSCI - Emerging Markets Index ($ Net)</th>\n",
       "      <th>S&amp;P - GSCI Total Index</th>\n",
       "      <th>MSCI - U.S. REIT Index</th>\n",
       "    </tr>\n",
       "  </thead>\n",
       "  <tbody>\n",
       "    <tr>\n",
       "      <th>Bloomberg Barclays - U.S. TIPS Index</th>\n",
       "      <td>32.10</td>\n",
       "      <td>14.93</td>\n",
       "      <td>15.22</td>\n",
       "      <td>24.36</td>\n",
       "      <td>1.84</td>\n",
       "      <td>3.13</td>\n",
       "      <td>-3.35</td>\n",
       "      <td>1.68</td>\n",
       "      <td>11.30</td>\n",
       "      <td>21.15</td>\n",
       "      <td>27.05</td>\n",
       "      <td>29.40</td>\n",
       "    </tr>\n",
       "    <tr>\n",
       "      <th>Bloomberg Barclays - U.S. Aggregate Index</th>\n",
       "      <td>14.93</td>\n",
       "      <td>11.43</td>\n",
       "      <td>5.62</td>\n",
       "      <td>15.38</td>\n",
       "      <td>-5.02</td>\n",
       "      <td>-3.76</td>\n",
       "      <td>-9.13</td>\n",
       "      <td>-4.94</td>\n",
       "      <td>0.97</td>\n",
       "      <td>2.15</td>\n",
       "      <td>-3.13</td>\n",
       "      <td>13.50</td>\n",
       "    </tr>\n",
       "    <tr>\n",
       "      <th>BofA Merrill Lynch - U.S. High Yield Index</th>\n",
       "      <td>15.22</td>\n",
       "      <td>5.62</td>\n",
       "      <td>79.82</td>\n",
       "      <td>13.88</td>\n",
       "      <td>90.12</td>\n",
       "      <td>80.88</td>\n",
       "      <td>120.25</td>\n",
       "      <td>99.12</td>\n",
       "      <td>99.64</td>\n",
       "      <td>134.48</td>\n",
       "      <td>65.84</td>\n",
       "      <td>110.21</td>\n",
       "    </tr>\n",
       "    <tr>\n",
       "      <th>FTSE - Non U.S. Govt Bond Index ($)</th>\n",
       "      <td>24.36</td>\n",
       "      <td>15.38</td>\n",
       "      <td>13.88</td>\n",
       "      <td>65.51</td>\n",
       "      <td>8.89</td>\n",
       "      <td>15.50</td>\n",
       "      <td>2.54</td>\n",
       "      <td>10.01</td>\n",
       "      <td>43.68</td>\n",
       "      <td>44.61</td>\n",
       "      <td>36.94</td>\n",
       "      <td>41.42</td>\n",
       "    </tr>\n",
       "    <tr>\n",
       "      <th>Russell - 1000 Growth Index</th>\n",
       "      <td>1.84</td>\n",
       "      <td>-5.02</td>\n",
       "      <td>90.12</td>\n",
       "      <td>8.89</td>\n",
       "      <td>277.28</td>\n",
       "      <td>188.59</td>\n",
       "      <td>315.27</td>\n",
       "      <td>205.29</td>\n",
       "      <td>219.13</td>\n",
       "      <td>269.40</td>\n",
       "      <td>106.05</td>\n",
       "      <td>162.56</td>\n",
       "    </tr>\n",
       "    <tr>\n",
       "      <th>Russell - 1000 Value Index</th>\n",
       "      <td>3.13</td>\n",
       "      <td>-3.76</td>\n",
       "      <td>80.88</td>\n",
       "      <td>15.50</td>\n",
       "      <td>188.59</td>\n",
       "      <td>211.50</td>\n",
       "      <td>221.04</td>\n",
       "      <td>219.40</td>\n",
       "      <td>192.20</td>\n",
       "      <td>220.14</td>\n",
       "      <td>95.27</td>\n",
       "      <td>197.93</td>\n",
       "    </tr>\n",
       "    <tr>\n",
       "      <th>Russell - 2000 Growth Index</th>\n",
       "      <td>-3.35</td>\n",
       "      <td>-9.13</td>\n",
       "      <td>120.25</td>\n",
       "      <td>2.54</td>\n",
       "      <td>315.27</td>\n",
       "      <td>221.04</td>\n",
       "      <td>496.54</td>\n",
       "      <td>333.67</td>\n",
       "      <td>267.42</td>\n",
       "      <td>345.33</td>\n",
       "      <td>149.62</td>\n",
       "      <td>236.67</td>\n",
       "    </tr>\n",
       "    <tr>\n",
       "      <th>Russell - 2000 Value Index</th>\n",
       "      <td>1.68</td>\n",
       "      <td>-4.94</td>\n",
       "      <td>99.12</td>\n",
       "      <td>10.01</td>\n",
       "      <td>205.29</td>\n",
       "      <td>219.40</td>\n",
       "      <td>333.67</td>\n",
       "      <td>320.15</td>\n",
       "      <td>209.11</td>\n",
       "      <td>249.70</td>\n",
       "      <td>111.21</td>\n",
       "      <td>268.81</td>\n",
       "    </tr>\n",
       "    <tr>\n",
       "      <th>MSCI - EAFE Index ($Net)</th>\n",
       "      <td>11.30</td>\n",
       "      <td>0.97</td>\n",
       "      <td>99.64</td>\n",
       "      <td>43.68</td>\n",
       "      <td>219.13</td>\n",
       "      <td>192.20</td>\n",
       "      <td>267.42</td>\n",
       "      <td>209.11</td>\n",
       "      <td>266.34</td>\n",
       "      <td>302.58</td>\n",
       "      <td>155.21</td>\n",
       "      <td>190.11</td>\n",
       "    </tr>\n",
       "    <tr>\n",
       "      <th>MSCI - Emerging Markets Index ($ Net)</th>\n",
       "      <td>21.15</td>\n",
       "      <td>2.15</td>\n",
       "      <td>134.48</td>\n",
       "      <td>44.61</td>\n",
       "      <td>269.40</td>\n",
       "      <td>220.14</td>\n",
       "      <td>345.33</td>\n",
       "      <td>249.70</td>\n",
       "      <td>302.58</td>\n",
       "      <td>475.74</td>\n",
       "      <td>208.16</td>\n",
       "      <td>222.84</td>\n",
       "    </tr>\n",
       "    <tr>\n",
       "      <th>S&amp;P - GSCI Total Index</th>\n",
       "      <td>27.05</td>\n",
       "      <td>-3.13</td>\n",
       "      <td>65.84</td>\n",
       "      <td>36.94</td>\n",
       "      <td>106.05</td>\n",
       "      <td>95.27</td>\n",
       "      <td>149.62</td>\n",
       "      <td>111.21</td>\n",
       "      <td>155.21</td>\n",
       "      <td>208.16</td>\n",
       "      <td>506.63</td>\n",
       "      <td>65.61</td>\n",
       "    </tr>\n",
       "    <tr>\n",
       "      <th>MSCI - U.S. REIT Index</th>\n",
       "      <td>29.40</td>\n",
       "      <td>13.50</td>\n",
       "      <td>110.21</td>\n",
       "      <td>41.42</td>\n",
       "      <td>162.56</td>\n",
       "      <td>197.93</td>\n",
       "      <td>236.67</td>\n",
       "      <td>268.81</td>\n",
       "      <td>190.11</td>\n",
       "      <td>222.84</td>\n",
       "      <td>65.61</td>\n",
       "      <td>433.64</td>\n",
       "    </tr>\n",
       "  </tbody>\n",
       "</table>\n",
       "</div>"
      ],
      "text/plain": [
       "                                            Bloomberg Barclays - U.S. TIPS Index  \\\n",
       "Bloomberg Barclays - U.S. TIPS Index                                       32.10   \n",
       "Bloomberg Barclays - U.S. Aggregate Index                                  14.93   \n",
       "BofA Merrill Lynch - U.S. High Yield Index                                 15.22   \n",
       "FTSE - Non U.S. Govt Bond Index ($)                                        24.36   \n",
       "Russell - 1000 Growth Index                                                 1.84   \n",
       "Russell - 1000 Value Index                                                  3.13   \n",
       "Russell - 2000 Growth Index                                                -3.35   \n",
       "Russell - 2000 Value Index                                                  1.68   \n",
       "MSCI - EAFE Index ($Net)                                                   11.30   \n",
       "MSCI - Emerging Markets Index ($ Net)                                      21.15   \n",
       "S&P - GSCI Total Index                                                     27.05   \n",
       "MSCI - U.S. REIT Index                                                     29.40   \n",
       "\n",
       "                                            Bloomberg Barclays - U.S. Aggregate Index  \\\n",
       "Bloomberg Barclays - U.S. TIPS Index                                            14.93   \n",
       "Bloomberg Barclays - U.S. Aggregate Index                                       11.43   \n",
       "BofA Merrill Lynch - U.S. High Yield Index                                       5.62   \n",
       "FTSE - Non U.S. Govt Bond Index ($)                                             15.38   \n",
       "Russell - 1000 Growth Index                                                     -5.02   \n",
       "Russell - 1000 Value Index                                                      -3.76   \n",
       "Russell - 2000 Growth Index                                                     -9.13   \n",
       "Russell - 2000 Value Index                                                      -4.94   \n",
       "MSCI - EAFE Index ($Net)                                                         0.97   \n",
       "MSCI - Emerging Markets Index ($ Net)                                            2.15   \n",
       "S&P - GSCI Total Index                                                          -3.13   \n",
       "MSCI - U.S. REIT Index                                                          13.50   \n",
       "\n",
       "                                            BofA Merrill Lynch - U.S. High Yield Index  \\\n",
       "Bloomberg Barclays - U.S. TIPS Index                                             15.22   \n",
       "Bloomberg Barclays - U.S. Aggregate Index                                         5.62   \n",
       "BofA Merrill Lynch - U.S. High Yield Index                                       79.82   \n",
       "FTSE - Non U.S. Govt Bond Index ($)                                              13.88   \n",
       "Russell - 1000 Growth Index                                                      90.12   \n",
       "Russell - 1000 Value Index                                                       80.88   \n",
       "Russell - 2000 Growth Index                                                     120.25   \n",
       "Russell - 2000 Value Index                                                       99.12   \n",
       "MSCI - EAFE Index ($Net)                                                         99.64   \n",
       "MSCI - Emerging Markets Index ($ Net)                                           134.48   \n",
       "S&P - GSCI Total Index                                                           65.84   \n",
       "MSCI - U.S. REIT Index                                                          110.21   \n",
       "\n",
       "                                            FTSE - Non U.S. Govt Bond Index ($)  \\\n",
       "Bloomberg Barclays - U.S. TIPS Index                                      24.36   \n",
       "Bloomberg Barclays - U.S. Aggregate Index                                 15.38   \n",
       "BofA Merrill Lynch - U.S. High Yield Index                                13.88   \n",
       "FTSE - Non U.S. Govt Bond Index ($)                                       65.51   \n",
       "Russell - 1000 Growth Index                                                8.89   \n",
       "Russell - 1000 Value Index                                                15.50   \n",
       "Russell - 2000 Growth Index                                                2.54   \n",
       "Russell - 2000 Value Index                                                10.01   \n",
       "MSCI - EAFE Index ($Net)                                                  43.68   \n",
       "MSCI - Emerging Markets Index ($ Net)                                     44.61   \n",
       "S&P - GSCI Total Index                                                    36.94   \n",
       "MSCI - U.S. REIT Index                                                    41.42   \n",
       "\n",
       "                                            Russell - 1000 Growth Index  \\\n",
       "Bloomberg Barclays - U.S. TIPS Index                               1.84   \n",
       "Bloomberg Barclays - U.S. Aggregate Index                         -5.02   \n",
       "BofA Merrill Lynch - U.S. High Yield Index                        90.12   \n",
       "FTSE - Non U.S. Govt Bond Index ($)                                8.89   \n",
       "Russell - 1000 Growth Index                                      277.28   \n",
       "Russell - 1000 Value Index                                       188.59   \n",
       "Russell - 2000 Growth Index                                      315.27   \n",
       "Russell - 2000 Value Index                                       205.29   \n",
       "MSCI - EAFE Index ($Net)                                         219.13   \n",
       "MSCI - Emerging Markets Index ($ Net)                            269.40   \n",
       "S&P - GSCI Total Index                                           106.05   \n",
       "MSCI - U.S. REIT Index                                           162.56   \n",
       "\n",
       "                                            Russell - 1000 Value Index  \\\n",
       "Bloomberg Barclays - U.S. TIPS Index                              3.13   \n",
       "Bloomberg Barclays - U.S. Aggregate Index                        -3.76   \n",
       "BofA Merrill Lynch - U.S. High Yield Index                       80.88   \n",
       "FTSE - Non U.S. Govt Bond Index ($)                              15.50   \n",
       "Russell - 1000 Growth Index                                     188.59   \n",
       "Russell - 1000 Value Index                                      211.50   \n",
       "Russell - 2000 Growth Index                                     221.04   \n",
       "Russell - 2000 Value Index                                      219.40   \n",
       "MSCI - EAFE Index ($Net)                                        192.20   \n",
       "MSCI - Emerging Markets Index ($ Net)                           220.14   \n",
       "S&P - GSCI Total Index                                           95.27   \n",
       "MSCI - U.S. REIT Index                                          197.93   \n",
       "\n",
       "                                            Russell - 2000 Growth Index  \\\n",
       "Bloomberg Barclays - U.S. TIPS Index                              -3.35   \n",
       "Bloomberg Barclays - U.S. Aggregate Index                         -9.13   \n",
       "BofA Merrill Lynch - U.S. High Yield Index                       120.25   \n",
       "FTSE - Non U.S. Govt Bond Index ($)                                2.54   \n",
       "Russell - 1000 Growth Index                                      315.27   \n",
       "Russell - 1000 Value Index                                       221.04   \n",
       "Russell - 2000 Growth Index                                      496.54   \n",
       "Russell - 2000 Value Index                                       333.67   \n",
       "MSCI - EAFE Index ($Net)                                         267.42   \n",
       "MSCI - Emerging Markets Index ($ Net)                            345.33   \n",
       "S&P - GSCI Total Index                                           149.62   \n",
       "MSCI - U.S. REIT Index                                           236.67   \n",
       "\n",
       "                                            Russell - 2000 Value Index  \\\n",
       "Bloomberg Barclays - U.S. TIPS Index                              1.68   \n",
       "Bloomberg Barclays - U.S. Aggregate Index                        -4.94   \n",
       "BofA Merrill Lynch - U.S. High Yield Index                       99.12   \n",
       "FTSE - Non U.S. Govt Bond Index ($)                              10.01   \n",
       "Russell - 1000 Growth Index                                     205.29   \n",
       "Russell - 1000 Value Index                                      219.40   \n",
       "Russell - 2000 Growth Index                                     333.67   \n",
       "Russell - 2000 Value Index                                      320.15   \n",
       "MSCI - EAFE Index ($Net)                                        209.11   \n",
       "MSCI - Emerging Markets Index ($ Net)                           249.70   \n",
       "S&P - GSCI Total Index                                          111.21   \n",
       "MSCI - U.S. REIT Index                                          268.81   \n",
       "\n",
       "                                            MSCI - EAFE Index ($Net)  \\\n",
       "Bloomberg Barclays - U.S. TIPS Index                           11.30   \n",
       "Bloomberg Barclays - U.S. Aggregate Index                       0.97   \n",
       "BofA Merrill Lynch - U.S. High Yield Index                     99.64   \n",
       "FTSE - Non U.S. Govt Bond Index ($)                            43.68   \n",
       "Russell - 1000 Growth Index                                   219.13   \n",
       "Russell - 1000 Value Index                                    192.20   \n",
       "Russell - 2000 Growth Index                                   267.42   \n",
       "Russell - 2000 Value Index                                    209.11   \n",
       "MSCI - EAFE Index ($Net)                                      266.34   \n",
       "MSCI - Emerging Markets Index ($ Net)                         302.58   \n",
       "S&P - GSCI Total Index                                        155.21   \n",
       "MSCI - U.S. REIT Index                                        190.11   \n",
       "\n",
       "                                            MSCI - Emerging Markets Index ($ Net)  \\\n",
       "Bloomberg Barclays - U.S. TIPS Index                                        21.15   \n",
       "Bloomberg Barclays - U.S. Aggregate Index                                    2.15   \n",
       "BofA Merrill Lynch - U.S. High Yield Index                                 134.48   \n",
       "FTSE - Non U.S. Govt Bond Index ($)                                         44.61   \n",
       "Russell - 1000 Growth Index                                                269.40   \n",
       "Russell - 1000 Value Index                                                 220.14   \n",
       "Russell - 2000 Growth Index                                                345.33   \n",
       "Russell - 2000 Value Index                                                 249.70   \n",
       "MSCI - EAFE Index ($Net)                                                   302.58   \n",
       "MSCI - Emerging Markets Index ($ Net)                                      475.74   \n",
       "S&P - GSCI Total Index                                                     208.16   \n",
       "MSCI - U.S. REIT Index                                                     222.84   \n",
       "\n",
       "                                            S&P - GSCI Total Index  \\\n",
       "Bloomberg Barclays - U.S. TIPS Index                         27.05   \n",
       "Bloomberg Barclays - U.S. Aggregate Index                    -3.13   \n",
       "BofA Merrill Lynch - U.S. High Yield Index                   65.84   \n",
       "FTSE - Non U.S. Govt Bond Index ($)                          36.94   \n",
       "Russell - 1000 Growth Index                                 106.05   \n",
       "Russell - 1000 Value Index                                   95.27   \n",
       "Russell - 2000 Growth Index                                 149.62   \n",
       "Russell - 2000 Value Index                                  111.21   \n",
       "MSCI - EAFE Index ($Net)                                    155.21   \n",
       "MSCI - Emerging Markets Index ($ Net)                       208.16   \n",
       "S&P - GSCI Total Index                                      506.63   \n",
       "MSCI - U.S. REIT Index                                       65.61   \n",
       "\n",
       "                                            MSCI - U.S. REIT Index  \n",
       "Bloomberg Barclays - U.S. TIPS Index                         29.40  \n",
       "Bloomberg Barclays - U.S. Aggregate Index                    13.50  \n",
       "BofA Merrill Lynch - U.S. High Yield Index                  110.21  \n",
       "FTSE - Non U.S. Govt Bond Index ($)                          41.42  \n",
       "Russell - 1000 Growth Index                                 162.56  \n",
       "Russell - 1000 Value Index                                  197.93  \n",
       "Russell - 2000 Growth Index                                 236.67  \n",
       "Russell - 2000 Value Index                                  268.81  \n",
       "MSCI - EAFE Index ($Net)                                    190.11  \n",
       "MSCI - Emerging Markets Index ($ Net)                       222.84  \n",
       "S&P - GSCI Total Index                                       65.61  \n",
       "MSCI - U.S. REIT Index                                      433.64  "
      ]
     },
     "execution_count": 7,
     "metadata": {},
     "output_type": "execute_result"
    }
   ],
   "source": [
    "Sigma = data.cov()*12\n",
    "round(Sigma,2)"
   ]
  },
  {
   "cell_type": "markdown",
   "metadata": {},
   "source": [
    "**Calculate the market risk aversion coefficient, i.e.,** the equilibrium/mkt risk aversion measure, which equals the market rsik premium over the market portfolio's variance level, therefore, its unit is return per unit of variance.\n",
    "\n",
    "Note: We assume risk-free return equals to 0"
   ]
  },
  {
   "cell_type": "code",
   "execution_count": 8,
   "metadata": {},
   "outputs": [
    {
     "name": "stdout",
     "output_type": "stream",
     "text": [
      "Variance of The Market Portfolio = 84.14. \n",
      "\n",
      "The risk aversion coefficient = 0.0594. \n",
      "\n"
     ]
    }
   ],
   "source": [
    "delta_eq = rp_mkt/(np.dot(w_mkt.T,np.dot(Sigma,w_mkt)))\n",
    "print('Variance of The Market Portfolio = %.2f. \\n' %  np.dot(w_mkt.T,np.dot(Sigma,w_mkt)))\n",
    "print('The risk aversion coefficient = %.4f. \\n' % delta_eq)\n"
   ]
  },
  {
   "cell_type": "markdown",
   "metadata": {},
   "source": [
    "**Calculate the equalibrium return vector**"
   ]
  },
  {
   "cell_type": "code",
   "execution_count": 9,
   "metadata": {},
   "outputs": [
    {
     "name": "stdout",
     "output_type": "stream",
     "text": [
      "0:Bloomberg Barclays - U.S. TIPS Index - 0.69%\n",
      "1:Bloomberg Barclays - U.S. Aggregate Index - 0.20%\n",
      "2:BofA Merrill Lynch - U.S. High Yield Index - 3.65%\n",
      "3:FTSE - Non U.S. Govt Bond Index ($) - 1.31%\n",
      "4:Russell - 1000 Growth Index - 8.14%\n",
      "5:Russell - 1000 Value Index - 7.10%\n",
      "6:Russell - 2000 Growth Index - 9.96%\n",
      "7:Russell - 2000 Value Index - 7.96%\n",
      "8:MSCI - EAFE Index ($Net) - 8.32%\n",
      "9:MSCI - Emerging Markets Index ($ Net) - 10.23%\n",
      "10:S&P - GSCI Total Index - 5.34%\n",
      "11:MSCI - U.S. REIT Index - 7.50%\n"
     ]
    }
   ],
   "source": [
    "Pi = np.dot(delta_eq,np.dot(Sigma,w_mkt)).reshape(-1,1)\n",
    "\n",
    "for i in range(len(data.columns)):\n",
    "    print('%d:%s - %.2f%%' % (i,data.columns[i],Pi[i]))"
   ]
  },
  {
   "cell_type": "markdown",
   "metadata": {},
   "source": [
    "**Check** if use the equlibrium return vector in the CAPM model, we'll get the market portfolio as the optimal solution"
   ]
  },
  {
   "cell_type": "code",
   "execution_count": 10,
   "metadata": {},
   "outputs": [
    {
     "name": "stdout",
     "output_type": "stream",
     "text": [
      "0.Bloomberg Barclays - U.S. TIPS Index: 0.04% - 0.04%\n",
      "1.Bloomberg Barclays - U.S. Aggregate Index: 0.29% - 0.29%\n",
      "2.BofA Merrill Lynch - U.S. High Yield Index: 0.03% - 0.03%\n",
      "3.FTSE - Non U.S. Govt Bond Index ($): 0.04% - 0.04%\n",
      "4.Russell - 1000 Growth Index: 0.17% - 0.17%\n",
      "5.Russell - 1000 Value Index: 0.17% - 0.17%\n",
      "6.Russell - 2000 Growth Index: 0.02% - 0.02%\n",
      "7.Russell - 2000 Value Index: 0.02% - 0.02%\n",
      "8.MSCI - EAFE Index ($Net): 0.12% - 0.12%\n",
      "9.MSCI - Emerging Markets Index ($ Net): 0.04% - 0.05%\n",
      "10.S&P - GSCI Total Index: 0.03% - 0.03%\n",
      "11.MSCI - U.S. REIT Index: 0.02% - 0.02%\n"
     ]
    }
   ],
   "source": [
    "w = np.dot(np.linalg.inv(Sigma),Pi)/sum(np.dot(np.linalg.inv(Sigma),Pi))\n",
    "for i in range(len(w_mkt)):\n",
    "    print('%d.%s: %.2f%% - %.2f%%' % (i,w_mkt.index[i],w_mkt[i],w[i]))"
   ]
  },
  {
   "cell_type": "markdown",
   "metadata": {},
   "source": [
    "**Prior Variance $C $of Expected Return $\\theta$**\n",
    "\n",
    "The expected return vector $\\theta$ is assumed to follow a prior distribution $N(\\Pi,C)$. \n",
    "\n",
    "In the BL model, the prior variance $C$is set to $\\tau\\Sigma$, i.e., proportional to security fundamental covariance matrix. \n",
    "\n",
    "The choice of $\\tau$ is one of the major roadblocks in practical application of the BL model (another one is the choice of the view uncertain matrix $\\Omega$). \n",
    "\n",
    "Since uncertainties about the exepcted return vector $\\theta$ is less than variabilities of returns themselves, $\\tau$ is usually set to a value less than 1. \n",
    "\n",
    "Here are some options  in specifying the value of $\\tau$:\n",
    "1. Black and Litterman (1992) -  $\\tau$ to be close to 0, typically 0.01 to 0.05.\n",
    "2. Satchell and Scowcroft (2000) - $\\tau=1$.\n",
    "3. Blamont and Firoozye (2003) - $\\tau=1/T$, where $T$ is the number of time periods in observations. \n",
    "\n",
    "In this example, let's use method 3."
   ]
  },
  {
   "cell_type": "code",
   "execution_count": 11,
   "metadata": {},
   "outputs": [],
   "source": [
    "# The number of years of observations in the data set\n",
    "T = num_month/12\n",
    "\n",
    "# Set tau to 1/T\n",
    "tau = 1/T"
   ]
  },
  {
   "cell_type": "markdown",
   "metadata": {},
   "source": [
    "**Active Views:**\n",
    "The portfolio manager of the asset allocation portfolio, you have the following three active views for the next year:\n",
    "* View 1: *U.S. High Yield Corp Bonds* will return 5%;\n",
    "* View 2: *Emerging Markets Equities(EM)* will outperform *Developed Non-US Markets Equities (EAFE)* by 4%;\n",
    "* View 3: *U.S. Value Stocks* will outperfrom *U.S. Growth Stocks* by 3%.\n",
    "\n",
    "View 1: *U.S. High Yield Corp Bonds* will return 5%\n",
    "\n",
    "View 1 is an absolute view. The view portfolio has 100% allocation to *U.S. High Yield Corp Bonds*"
   ]
  },
  {
   "cell_type": "code",
   "execution_count": 12,
   "metadata": {},
   "outputs": [
    {
     "name": "stdout",
     "output_type": "stream",
     "text": [
      "---View 1--- \n",
      " (Long Leg) BofA Merrill Lynch - U.S. High Yield Index.\n",
      "\n"
     ]
    }
   ],
   "source": [
    "# Locate the U.S. High Yield Corp Bonds\n",
    "tmp_pos = 2;\n",
    "print('---View 1--- \\n (Long Leg) %s.\\n' % ac_name[tmp_pos])"
   ]
  },
  {
   "cell_type": "code",
   "execution_count": 13,
   "metadata": {},
   "outputs": [],
   "source": [
    "# Build the view portfolio corresponding to View 1\n",
    "port_v1 = np.zeros(num_ac).reshape(1,-1)\n",
    "port_v1[:,2] = 1"
   ]
  },
  {
   "cell_type": "code",
   "execution_count": 14,
   "metadata": {},
   "outputs": [],
   "source": [
    "# The view portfolio's expected return is 5%\n",
    "q1 = 5"
   ]
  },
  {
   "cell_type": "code",
   "execution_count": 15,
   "metadata": {},
   "outputs": [
    {
     "name": "stdout",
     "output_type": "stream",
     "text": [
      "View 1: equlibrium return =3.65% active view return = 5.00%\n"
     ]
    }
   ],
   "source": [
    "# Compared to equilibrium return of the view portfolio\n",
    "print('View 1: equlibrium return =%.2f%% active view return = %.2f%%'% (np.dot(port_v1,Pi),q1))"
   ]
  },
  {
   "cell_type": "markdown",
   "metadata": {},
   "source": [
    "This active view forecasts that the asset class performs better than what's implied by its equlibrium return, therefore, the corresponding BL portfolio tends to assign more weight to this asset class relative to the market portfolio.\n",
    "\n",
    "View 2: *Emerging Markets Equities (EM)* will outperform *Developed Non-US  Markets Equities (EAFE)* by 4%\n",
    "\n",
    "View 2 is an relative view. The view portfolio consists of a long leg which has 100% allocation to _EM Equities,_ and a short leg which has 100% allocation to _EAFE Equities._"
   ]
  },
  {
   "cell_type": "code",
   "execution_count": 16,
   "metadata": {},
   "outputs": [
    {
     "name": "stdout",
     "output_type": "stream",
     "text": [
      "---View 2---\n",
      " (long Leg) MSCI - Emerging Markets Index ($ Net). \n",
      " (Shore Leg) MSCI - EAFE Index ($Net). \n",
      "\n"
     ]
    }
   ],
   "source": [
    "# locate the EM Equities and EAFE equities\n",
    "tmp_long = 9 #for the long leg\n",
    "tmp_short = 8 # for the short leg\n",
    "print('---View 2---\\n (long Leg) %s. \\n (Shore Leg) %s. \\n'% (ac_name[tmp_long],ac_name[tmp_short]))"
   ]
  },
  {
   "cell_type": "code",
   "execution_count": 17,
   "metadata": {},
   "outputs": [
    {
     "data": {
      "text/plain": [
       "array([[ 0.,  0.,  0.,  0.,  0.,  0.,  0.,  0., -1.,  1.,  0.,  0.]])"
      ]
     },
     "execution_count": 17,
     "metadata": {},
     "output_type": "execute_result"
    }
   ],
   "source": [
    "# build the view portfolio corresponding to View 2\n",
    "port_v2 = np.zeros(num_ac).reshape(1,-1)\n",
    "port_v2[:,tmp_long]=1\n",
    "port_v2[:,tmp_short]=-1\n",
    "port_v2"
   ]
  },
  {
   "cell_type": "code",
   "execution_count": 18,
   "metadata": {},
   "outputs": [],
   "source": [
    "# the view portfolio's expected return\n",
    "q2 = 4"
   ]
  },
  {
   "cell_type": "code",
   "execution_count": 19,
   "metadata": {},
   "outputs": [
    {
     "name": "stdout",
     "output_type": "stream",
     "text": [
      "View 2: equlibrium return=1.92%, active view return=4.00%.\n",
      "\n"
     ]
    }
   ],
   "source": [
    "# compared to equlibrium return of the view portfolio\n",
    "print('View 2: equlibrium return=%.2f%%, active view return=%.2f%%.\\n' % (np.dot(port_v2,Pi),q2))"
   ]
  },
  {
   "cell_type": "markdown",
   "metadata": {},
   "source": [
    "This active view forecasts that the performance difference between the \n",
    "long leg and short leg would be greater than what's implied by their equlibrium return difference, therefore, the Black-Litterman portfolio tends to allocate more weight to the long leg and less weight to the short leg relative to the market portfolio.\n",
    "\n",
    "View 3: _U.S. Value Stocks_ will outperfrom _U.S. Growth Stocks_ by 3%\n",
    "\n",
    "View 3 is another relative view.  However, this time both the long and short legs of the view portfolio themselves are sub-portfolio of multiple asset classes. The long leg is a sub-portfolio of _U.S. Large Cap Value_ and _U.S. Small Cap Value_; and the short leg is a sub-portfolio of _U.S. Large Cap Growth_ and _U.S. Small Cap Growth._ For each sub-portfolio, constituent asset classes are assigned with allocations proportional to their weights in the market portfolio, and their total alloctions sum up to 100%. (Note: another way to construct sub-portfolio is simply equal-weighting constituent asset classes.)"
   ]
  },
  {
   "cell_type": "code",
   "execution_count": 20,
   "metadata": {},
   "outputs": [
    {
     "name": "stdout",
     "output_type": "stream",
     "text": [
      "---View 3---\n",
      "(Long Leg) 1)Russell - 1000 Value Index; 2)Russell - 2000 Value Index.\n",
      "(Short Leg) 1)Russell - 1000 Growth Index; 2)Russell - 2000 Growth Index.\n",
      "\n"
     ]
    }
   ],
   "source": [
    "# locate the US Large Cap Value and U.S. Small Cap Value\n",
    "tmp_long=np.array([5,7])#  for the long leg\n",
    "tmp_short=np.array([4,6])#  for the short leg\n",
    "print('---View 3---\\n(Long Leg) 1)%s; 2)%s.\\n(Short Leg) 1)%s; 2)%s.\\n'% (ac_name[tmp_long[0]],ac_name[tmp_long[1]],ac_name[tmp_short[0]],ac_name[tmp_short[1]]))"
   ]
  },
  {
   "cell_type": "code",
   "execution_count": 21,
   "metadata": {},
   "outputs": [],
   "source": [
    "# build the view portfolio corresponding to View 3\n",
    "port_v3_long=np.zeros(num_ac).reshape(1,-1)\n",
    "port_v3_short=np.zeros(num_ac).reshape(1,-1)\n",
    "w = w_mkt.values.reshape(1,-1)\n",
    "\n",
    "# sub-portfolio for the long leg\n",
    "port_v3_long[:,tmp_long]=w[:,tmp_long]\n",
    "port_v3_long=port_v3_long/np.sum(port_v3_long)\n",
    "\n",
    "#sub-portfolio for the short leg\n",
    "port_v3_short[:,tmp_short]=w[:,tmp_short]\n",
    "port_v3_short=port_v3_short/np.sum(port_v3_short)\n",
    "\n",
    "#view portfolio\n",
    "port_v3=port_v3_long-port_v3_short"
   ]
  },
  {
   "cell_type": "code",
   "execution_count": 22,
   "metadata": {},
   "outputs": [],
   "source": [
    "# the view portfolio's expected return\n",
    "q3 = 3"
   ]
  },
  {
   "cell_type": "code",
   "execution_count": 23,
   "metadata": {},
   "outputs": [
    {
     "name": "stdout",
     "output_type": "stream",
     "text": [
      "View 3: equlibrium return=-1.16%, active view return=3.00%.\n",
      "\n"
     ]
    }
   ],
   "source": [
    "# compared to equlibrium return of the view portfolio\n",
    "print('View 3: equlibrium return=%.2f%%, active view return=%.2f%%.\\n' % ((np.dot(port_v3,Pi),q3)))"
   ]
  },
  {
   "cell_type": "markdown",
   "metadata": {},
   "source": [
    "This active view forecasts that the performance difference between the long leg and short leg would be greater than what's implied by their equlibrium return difference, therefore, the Black-Litterman portfolio tends to allocate more weight to the long leg sub-portfolio and less weight to the short leg sub-portfolio relative to the market portfolio.\n",
    "\n",
    "**View Matrix $P$ and Vew Return Vector $Q$ Given The Above Three Active Views**\n",
    "\n",
    "The view matrix is a kxN matrix where each row corresponds to a view portfolio"
   ]
  },
  {
   "cell_type": "code",
   "execution_count": 24,
   "metadata": {},
   "outputs": [
    {
     "data": {
      "text/html": [
       "<div>\n",
       "<style scoped>\n",
       "    .dataframe tbody tr th:only-of-type {\n",
       "        vertical-align: middle;\n",
       "    }\n",
       "\n",
       "    .dataframe tbody tr th {\n",
       "        vertical-align: top;\n",
       "    }\n",
       "\n",
       "    .dataframe thead th {\n",
       "        text-align: right;\n",
       "    }\n",
       "</style>\n",
       "<table border=\"1\" class=\"dataframe\">\n",
       "  <thead>\n",
       "    <tr style=\"text-align: right;\">\n",
       "      <th></th>\n",
       "      <th>View1</th>\n",
       "      <th>View2</th>\n",
       "      <th>View3</th>\n",
       "    </tr>\n",
       "  </thead>\n",
       "  <tbody>\n",
       "    <tr>\n",
       "      <th>Bloomberg Barclays - U.S. TIPS Index</th>\n",
       "      <td>0.0</td>\n",
       "      <td>0.0</td>\n",
       "      <td>0.000000</td>\n",
       "    </tr>\n",
       "    <tr>\n",
       "      <th>Bloomberg Barclays - U.S. Aggregate Index</th>\n",
       "      <td>0.0</td>\n",
       "      <td>0.0</td>\n",
       "      <td>0.000000</td>\n",
       "    </tr>\n",
       "    <tr>\n",
       "      <th>BofA Merrill Lynch - U.S. High Yield Index</th>\n",
       "      <td>1.0</td>\n",
       "      <td>0.0</td>\n",
       "      <td>0.000000</td>\n",
       "    </tr>\n",
       "    <tr>\n",
       "      <th>FTSE - Non U.S. Govt Bond Index ($)</th>\n",
       "      <td>0.0</td>\n",
       "      <td>0.0</td>\n",
       "      <td>0.000000</td>\n",
       "    </tr>\n",
       "    <tr>\n",
       "      <th>Russell - 1000 Growth Index</th>\n",
       "      <td>0.0</td>\n",
       "      <td>0.0</td>\n",
       "      <td>-0.873684</td>\n",
       "    </tr>\n",
       "    <tr>\n",
       "      <th>Russell - 1000 Value Index</th>\n",
       "      <td>0.0</td>\n",
       "      <td>0.0</td>\n",
       "      <td>0.873684</td>\n",
       "    </tr>\n",
       "    <tr>\n",
       "      <th>Russell - 2000 Growth Index</th>\n",
       "      <td>0.0</td>\n",
       "      <td>0.0</td>\n",
       "      <td>-0.126316</td>\n",
       "    </tr>\n",
       "    <tr>\n",
       "      <th>Russell - 2000 Value Index</th>\n",
       "      <td>0.0</td>\n",
       "      <td>0.0</td>\n",
       "      <td>0.126316</td>\n",
       "    </tr>\n",
       "    <tr>\n",
       "      <th>MSCI - EAFE Index ($Net)</th>\n",
       "      <td>0.0</td>\n",
       "      <td>-1.0</td>\n",
       "      <td>0.000000</td>\n",
       "    </tr>\n",
       "    <tr>\n",
       "      <th>MSCI - Emerging Markets Index ($ Net)</th>\n",
       "      <td>0.0</td>\n",
       "      <td>1.0</td>\n",
       "      <td>0.000000</td>\n",
       "    </tr>\n",
       "    <tr>\n",
       "      <th>S&amp;P - GSCI Total Index</th>\n",
       "      <td>0.0</td>\n",
       "      <td>0.0</td>\n",
       "      <td>0.000000</td>\n",
       "    </tr>\n",
       "    <tr>\n",
       "      <th>MSCI - U.S. REIT Index</th>\n",
       "      <td>0.0</td>\n",
       "      <td>0.0</td>\n",
       "      <td>0.000000</td>\n",
       "    </tr>\n",
       "  </tbody>\n",
       "</table>\n",
       "</div>"
      ],
      "text/plain": [
       "                                            View1  View2     View3\n",
       "Bloomberg Barclays - U.S. TIPS Index          0.0    0.0  0.000000\n",
       "Bloomberg Barclays - U.S. Aggregate Index     0.0    0.0  0.000000\n",
       "BofA Merrill Lynch - U.S. High Yield Index    1.0    0.0  0.000000\n",
       "FTSE - Non U.S. Govt Bond Index ($)           0.0    0.0  0.000000\n",
       "Russell - 1000 Growth Index                   0.0    0.0 -0.873684\n",
       "Russell - 1000 Value Index                    0.0    0.0  0.873684\n",
       "Russell - 2000 Growth Index                   0.0    0.0 -0.126316\n",
       "Russell - 2000 Value Index                    0.0    0.0  0.126316\n",
       "MSCI - EAFE Index ($Net)                      0.0   -1.0  0.000000\n",
       "MSCI - Emerging Markets Index ($ Net)         0.0    1.0  0.000000\n",
       "S&P - GSCI Total Index                        0.0    0.0  0.000000\n",
       "MSCI - U.S. REIT Index                        0.0    0.0  0.000000"
      ]
     },
     "execution_count": 24,
     "metadata": {},
     "output_type": "execute_result"
    }
   ],
   "source": [
    "P = np.vstack((port_v1,port_v2,port_v3))\n",
    "\n",
    "pd.DataFrame(P.T,index=data.columns,columns=['View1','View2','View3'])"
   ]
  },
  {
   "cell_type": "code",
   "execution_count": 25,
   "metadata": {},
   "outputs": [],
   "source": [
    "# View Return Vector Q\n",
    "Q = np.vstack((q1,q2,q3))"
   ]
  },
  {
   "cell_type": "markdown",
   "metadata": {},
   "source": [
    "**View Uncertainty Matrix $\\Omega$**\n",
    "\n",
    "In the BL model, $\\Omega$ is a diagonal matrix containing diagonal elements $\\omega_i$ ($i=1,...,k$) which measures the portfolio manager's uncertainty on view $k$. The uncertainty matrix $\\Omega$ reflects how confident the portfolio manager is on his/her active views subjectively. There are different ways to specify $\\Omega$, and we introduce two methods:\n",
    "\n",
    "* Make statistical assumption. For example, a portfolio manager has View A return of 6%, and the projection of the return would fall between 5% and 7% with 95% confidence level, which implicates a two sigma of 1%=(7%-5%)/2, or, one standard deviation of 0.5%. \n",
    "\n",
    "* He and Litterman (1999) - $\\omega_k=\\tau\\cdot (p_k\\Sigma p_k')$, i.e., the confidence of a view equals $\\tau$ (from the prior distribution of the expected return vector $\\theta$) times the variance of the view portfolio ($p_k\\Sigma p_k'$). (note: using this method, then $\\tau$ has no impact on the value of the updated expected reutrn vector $\\nu$).\n",
    "\n",
    "Let's use method 2 in this example."
   ]
  },
  {
   "cell_type": "code",
   "execution_count": 26,
   "metadata": {},
   "outputs": [],
   "source": [
    "# calculate the first diagonal element (corresponding to View 1) \n",
    "omega1 = tau*np.dot(port_v1,np.dot(Sigma,port_v1.T))\n",
    "omega2 = tau*np.dot(port_v2,np.dot(Sigma,port_v2.T))\n",
    "omega3 = tau*np.dot(port_v3,np.dot(Sigma,port_v3.T))"
   ]
  },
  {
   "cell_type": "code",
   "execution_count": 27,
   "metadata": {},
   "outputs": [],
   "source": [
    "# the View uncertainty matrix\n",
    "Omega = np.diag(np.hstack((omega1,omega2,omega3))[0])"
   ]
  },
  {
   "cell_type": "markdown",
   "metadata": {},
   "source": [
    "**Black-Litterman Results**\n",
    "\n",
    "The distribution of the security return vector $R$ conditional on actie views $Q$ has been updated to $N(\\nu,H^{-1}+\\Sigma)$, where:\n",
    "\n",
    "* $H=(P'\\Omega^{-1}P+C^{-1})$\n",
    "* $\\nu=H^{-1}(P'\\Omega^{-1}Q+C^{-1}\\Pi)$\n",
    "\n",
    "\n",
    "And the optimal weight vector $w^*$ given a risk aversion measure $\\delta$: $w^*=\\delta^{-1}(H^{-1}+\\Sigma)^{-1}\\nu$.\n",
    "\n",
    "Let's first calculate $H$ and updated expected return vector $\\nu$:"
   ]
  },
  {
   "cell_type": "code",
   "execution_count": 28,
   "metadata": {},
   "outputs": [],
   "source": [
    "# calculate C\n",
    "C = tau*Sigma\n",
    "\n",
    "# calculate H\n",
    "H = np.dot(P.T,np.dot(np.linalg.inv(Omega),P)) + np.linalg.inv(C)\n",
    "\n",
    "# calculate nu\n",
    "\n",
    "nu = np.dot(np.linalg.inv(H),(np.dot(P.T,np.dot(np.linalg.inv(Omega),Q))+np.dot(np.linalg.inv(C),Pi).reshape(-1,1)))\n",
    "            "
   ]
  },
  {
   "cell_type": "code",
   "execution_count": 29,
   "metadata": {},
   "outputs": [
    {
     "data": {
      "text/html": [
       "<div>\n",
       "<style scoped>\n",
       "    .dataframe tbody tr th:only-of-type {\n",
       "        vertical-align: middle;\n",
       "    }\n",
       "\n",
       "    .dataframe tbody tr th {\n",
       "        vertical-align: top;\n",
       "    }\n",
       "\n",
       "    .dataframe thead th {\n",
       "        text-align: right;\n",
       "    }\n",
       "</style>\n",
       "<table border=\"1\" class=\"dataframe\">\n",
       "  <thead>\n",
       "    <tr style=\"text-align: right;\">\n",
       "      <th></th>\n",
       "      <th>Exp_Ret</th>\n",
       "      <th>Updated_Exp_Ret</th>\n",
       "    </tr>\n",
       "  </thead>\n",
       "  <tbody>\n",
       "    <tr>\n",
       "      <th>Bloomberg Barclays - U.S. TIPS Index</th>\n",
       "      <td>0.692761</td>\n",
       "      <td>0.931737</td>\n",
       "    </tr>\n",
       "    <tr>\n",
       "      <th>Bloomberg Barclays - U.S. Aggregate Index</th>\n",
       "      <td>0.195100</td>\n",
       "      <td>0.282547</td>\n",
       "    </tr>\n",
       "    <tr>\n",
       "      <th>BofA Merrill Lynch - U.S. High Yield Index</th>\n",
       "      <td>3.647922</td>\n",
       "      <td>4.362287</td>\n",
       "    </tr>\n",
       "    <tr>\n",
       "      <th>FTSE - Non U.S. Govt Bond Index ($)</th>\n",
       "      <td>1.313067</td>\n",
       "      <td>1.565618</td>\n",
       "    </tr>\n",
       "    <tr>\n",
       "      <th>Russell - 1000 Growth Index</th>\n",
       "      <td>8.136533</td>\n",
       "      <td>7.452521</td>\n",
       "    </tr>\n",
       "    <tr>\n",
       "      <th>Russell - 1000 Value Index</th>\n",
       "      <td>7.095385</td>\n",
       "      <td>8.370254</td>\n",
       "    </tr>\n",
       "    <tr>\n",
       "      <th>Russell - 2000 Growth Index</th>\n",
       "      <td>9.956679</td>\n",
       "      <td>9.514337</td>\n",
       "    </tr>\n",
       "    <tr>\n",
       "      <th>Russell - 2000 Value Index</th>\n",
       "      <td>7.958892</td>\n",
       "      <td>9.301724</td>\n",
       "    </tr>\n",
       "    <tr>\n",
       "      <th>MSCI - EAFE Index ($Net)</th>\n",
       "      <td>8.316822</td>\n",
       "      <td>8.798851</td>\n",
       "    </tr>\n",
       "    <tr>\n",
       "      <th>MSCI - Emerging Markets Index ($ Net)</th>\n",
       "      <td>10.234905</td>\n",
       "      <td>11.655372</td>\n",
       "    </tr>\n",
       "    <tr>\n",
       "      <th>S&amp;P - GSCI Total Index</th>\n",
       "      <td>5.337988</td>\n",
       "      <td>6.021353</td>\n",
       "    </tr>\n",
       "    <tr>\n",
       "      <th>MSCI - U.S. REIT Index</th>\n",
       "      <td>7.496819</td>\n",
       "      <td>9.348483</td>\n",
       "    </tr>\n",
       "  </tbody>\n",
       "</table>\n",
       "</div>"
      ],
      "text/plain": [
       "                                              Exp_Ret  Updated_Exp_Ret\n",
       "Bloomberg Barclays - U.S. TIPS Index         0.692761         0.931737\n",
       "Bloomberg Barclays - U.S. Aggregate Index    0.195100         0.282547\n",
       "BofA Merrill Lynch - U.S. High Yield Index   3.647922         4.362287\n",
       "FTSE - Non U.S. Govt Bond Index ($)          1.313067         1.565618\n",
       "Russell - 1000 Growth Index                  8.136533         7.452521\n",
       "Russell - 1000 Value Index                   7.095385         8.370254\n",
       "Russell - 2000 Growth Index                  9.956679         9.514337\n",
       "Russell - 2000 Value Index                   7.958892         9.301724\n",
       "MSCI - EAFE Index ($Net)                     8.316822         8.798851\n",
       "MSCI - Emerging Markets Index ($ Net)       10.234905        11.655372\n",
       "S&P - GSCI Total Index                       5.337988         6.021353\n",
       "MSCI - U.S. REIT Index                       7.496819         9.348483"
      ]
     },
     "execution_count": 29,
     "metadata": {},
     "output_type": "execute_result"
    }
   ],
   "source": [
    "# let's compare the equlibrium return Pi and the updated expected return nu\n",
    "pd.DataFrame(np.hstack((Pi,nu)),index=ac_name,columns=['Exp_Ret','Updated_Exp_Ret'])"
   ]
  },
  {
   "cell_type": "markdown",
   "metadata": {},
   "source": [
    "Recall the three active views:\n",
    "\n",
    "* View 1: _U.S. High Yield Corp Bonds _will return 5%;\n",
    "* View 2:_ Emerging Markets Equities (EM)_ will outperform _Developed Non-US \n",
    "% Markets Equities (EAFE) _by 4%; \n",
    "* View 3: _U.S. Value Stocks_ will outperfrom _U.S. Growth Stocks _by 3%. \n",
    "\n",
    "We already assumed a risk aversion $\\delta_{eq}$ (see the section of _Reverse Opitmization_), which will be used to calculate the optimal allocation solution from the Black Litterman model: $w^*=\\delta^{-1}(H^{-1}+\\Sigma)^{-1}\\nu$.\n"
   ]
  },
  {
   "cell_type": "code",
   "execution_count": 30,
   "metadata": {},
   "outputs": [],
   "source": [
    "# The optimal weight vector from BL model\n",
    "w_opt = np.dot(delta_eq**(-1)*np.linalg.inv(np.linalg.inv(H)+Sigma),nu)"
   ]
  },
  {
   "cell_type": "code",
   "execution_count": 31,
   "metadata": {},
   "outputs": [
    {
     "data": {
      "text/plain": [
       "array([[ 0.03809524],\n",
       "       [ 0.27809524],\n",
       "       [ 0.17696649],\n",
       "       [ 0.03619048],\n",
       "       [-0.12512684],\n",
       "       [ 0.44131732],\n",
       "       [-0.01809063],\n",
       "       [ 0.06380491],\n",
       "       [-0.02555876],\n",
       "       [ 0.18270162],\n",
       "       [ 0.03238095],\n",
       "       [ 0.02      ]])"
      ]
     },
     "execution_count": 31,
     "metadata": {},
     "output_type": "execute_result"
    }
   ],
   "source": [
    "w_opt"
   ]
  },
  {
   "cell_type": "code",
   "execution_count": 32,
   "metadata": {},
   "outputs": [
    {
     "name": "stdout",
     "output_type": "stream",
     "text": [
      "Net Leverage of the BL Optimal Portfolio = 1.1.\n",
      "\n"
     ]
    }
   ],
   "source": [
    "# Check if net leverage of 1\n",
    "print('Net Leverage of the BL Optimal Portfolio = %.1f.\\n' % np.sum(w_opt))"
   ]
  },
  {
   "cell_type": "markdown",
   "metadata": {},
   "source": [
    "_Note:the BL optimal portfolio may have non-unity net leverage._"
   ]
  },
  {
   "cell_type": "code",
   "execution_count": 33,
   "metadata": {},
   "outputs": [
    {
     "data": {
      "text/html": [
       "<div>\n",
       "<style scoped>\n",
       "    .dataframe tbody tr th:only-of-type {\n",
       "        vertical-align: middle;\n",
       "    }\n",
       "\n",
       "    .dataframe tbody tr th {\n",
       "        vertical-align: top;\n",
       "    }\n",
       "\n",
       "    .dataframe thead th {\n",
       "        text-align: right;\n",
       "    }\n",
       "</style>\n",
       "<table border=\"1\" class=\"dataframe\">\n",
       "  <thead>\n",
       "    <tr style=\"text-align: right;\">\n",
       "      <th></th>\n",
       "      <th>Mkt_Port</th>\n",
       "      <th>BL_port</th>\n",
       "    </tr>\n",
       "  </thead>\n",
       "  <tbody>\n",
       "    <tr>\n",
       "      <th>Bloomberg Barclays - U.S. TIPS Index</th>\n",
       "      <td>0.040</td>\n",
       "      <td>0.931737</td>\n",
       "    </tr>\n",
       "    <tr>\n",
       "      <th>Bloomberg Barclays - U.S. Aggregate Index</th>\n",
       "      <td>0.292</td>\n",
       "      <td>0.282547</td>\n",
       "    </tr>\n",
       "    <tr>\n",
       "      <th>BofA Merrill Lynch - U.S. High Yield Index</th>\n",
       "      <td>0.030</td>\n",
       "      <td>4.362287</td>\n",
       "    </tr>\n",
       "    <tr>\n",
       "      <th>FTSE - Non U.S. Govt Bond Index ($)</th>\n",
       "      <td>0.038</td>\n",
       "      <td>1.565618</td>\n",
       "    </tr>\n",
       "    <tr>\n",
       "      <th>Russell - 1000 Growth Index</th>\n",
       "      <td>0.166</td>\n",
       "      <td>7.452521</td>\n",
       "    </tr>\n",
       "    <tr>\n",
       "      <th>Russell - 1000 Value Index</th>\n",
       "      <td>0.166</td>\n",
       "      <td>8.370254</td>\n",
       "    </tr>\n",
       "    <tr>\n",
       "      <th>Russell - 2000 Growth Index</th>\n",
       "      <td>0.024</td>\n",
       "      <td>9.514337</td>\n",
       "    </tr>\n",
       "    <tr>\n",
       "      <th>Russell - 2000 Value Index</th>\n",
       "      <td>0.024</td>\n",
       "      <td>9.301724</td>\n",
       "    </tr>\n",
       "    <tr>\n",
       "      <th>MSCI - EAFE Index ($Net)</th>\n",
       "      <td>0.120</td>\n",
       "      <td>8.798851</td>\n",
       "    </tr>\n",
       "    <tr>\n",
       "      <th>MSCI - Emerging Markets Index ($ Net)</th>\n",
       "      <td>0.045</td>\n",
       "      <td>11.655372</td>\n",
       "    </tr>\n",
       "    <tr>\n",
       "      <th>S&amp;P - GSCI Total Index</th>\n",
       "      <td>0.034</td>\n",
       "      <td>6.021353</td>\n",
       "    </tr>\n",
       "    <tr>\n",
       "      <th>MSCI - U.S. REIT Index</th>\n",
       "      <td>0.021</td>\n",
       "      <td>9.348483</td>\n",
       "    </tr>\n",
       "  </tbody>\n",
       "</table>\n",
       "</div>"
      ],
      "text/plain": [
       "                                            Mkt_Port    BL_port\n",
       "Bloomberg Barclays - U.S. TIPS Index           0.040   0.931737\n",
       "Bloomberg Barclays - U.S. Aggregate Index      0.292   0.282547\n",
       "BofA Merrill Lynch - U.S. High Yield Index     0.030   4.362287\n",
       "FTSE - Non U.S. Govt Bond Index ($)            0.038   1.565618\n",
       "Russell - 1000 Growth Index                    0.166   7.452521\n",
       "Russell - 1000 Value Index                     0.166   8.370254\n",
       "Russell - 2000 Growth Index                    0.024   9.514337\n",
       "Russell - 2000 Value Index                     0.024   9.301724\n",
       "MSCI - EAFE Index ($Net)                       0.120   8.798851\n",
       "MSCI - Emerging Markets Index ($ Net)          0.045  11.655372\n",
       "S&P - GSCI Total Index                         0.034   6.021353\n",
       "MSCI - U.S. REIT Index                         0.021   9.348483"
      ]
     },
     "execution_count": 33,
     "metadata": {},
     "output_type": "execute_result"
    }
   ],
   "source": [
    "# let's compare with the equlibrium portfolio, i.e., \n",
    "# the market portfolio which is the optimal one without active views\n",
    "\n",
    "pd.DataFrame(np.hstack((w.T,nu)),columns=['Mkt_Port','BL_port'],index=ac_name)"
   ]
  },
  {
   "cell_type": "markdown",
   "metadata": {},
   "source": [
    "As expected and aligned with the three active views, the resulted portfolio  overweigts High Yield, Emerging Market Equities, U.S. Equities Value, and underweights Developed Non-US Equities, U.S. Equities Growth. We also see that every asset class's allocation has changed even though it may not be directly related to any one of the three active views. It is because the Black Litterman model take into account the correlations among all asset classes, which leads to a more accurately titled portfolio from a holistic point of view on portfolio construction."
   ]
  },
  {
   "cell_type": "code",
   "execution_count": null,
   "metadata": {},
   "outputs": [],
   "source": []
  }
 ],
 "metadata": {
  "kernelspec": {
   "display_name": "Python 3",
   "language": "python",
   "name": "python3"
  },
  "language_info": {
   "codemirror_mode": {
    "name": "ipython",
    "version": 3
   },
   "file_extension": ".py",
   "mimetype": "text/x-python",
   "name": "python",
   "nbconvert_exporter": "python",
   "pygments_lexer": "ipython3",
   "version": "3.7.1"
  }
 },
 "nbformat": 4,
 "nbformat_minor": 2
}
