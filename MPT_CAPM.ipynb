{
 "cells": [
  {
   "cell_type": "markdown",
   "metadata": {},
   "source": [
    "# Modern Pricing Theory _ CAPM \n",
    "## *Short Selling is allowed*"
   ]
  },
  {
   "cell_type": "code",
   "execution_count": 1,
   "metadata": {},
   "outputs": [],
   "source": [
    "import pandas as pd\n",
    "import numpy as np\n",
    "import matplotlib.pyplot as plt\n",
    "import seaborn as sns\n",
    "from scipy import stats\n",
    "import warnings\n",
    "warnings.filterwarnings('ignore')"
   ]
  },
  {
   "cell_type": "code",
   "execution_count": 2,
   "metadata": {},
   "outputs": [],
   "source": [
    "data = pd.read_excel('20190922.xlsx',sheetname='DataSource_CAPMAssetClasses',\n",
    "                      header=[1],parse_dates=[0],index_col=[0])"
   ]
  },
  {
   "cell_type": "code",
   "execution_count": 3,
   "metadata": {},
   "outputs": [
    {
     "data": {
      "text/html": [
       "<div>\n",
       "<style scoped>\n",
       "    .dataframe tbody tr th:only-of-type {\n",
       "        vertical-align: middle;\n",
       "    }\n",
       "\n",
       "    .dataframe tbody tr th {\n",
       "        vertical-align: top;\n",
       "    }\n",
       "\n",
       "    .dataframe thead th {\n",
       "        text-align: right;\n",
       "    }\n",
       "</style>\n",
       "<table border=\"1\" class=\"dataframe\">\n",
       "  <thead>\n",
       "    <tr style=\"text-align: right;\">\n",
       "      <th></th>\n",
       "      <th>Bloomberg Barclays - U.S. TIPS Index</th>\n",
       "      <th>Bloomberg Barclays - U.S. Aggregate Index</th>\n",
       "      <th>BofA Merrill Lynch - U.S. High Yield Index</th>\n",
       "      <th>FTSE - Non U.S. Govt Bond Index ($)</th>\n",
       "      <th>Russell - 1000 Growth Index</th>\n",
       "      <th>Russell - 1000 Value Index</th>\n",
       "      <th>Russell - 2000 Growth Index</th>\n",
       "      <th>Russell - 2000 Value Index</th>\n",
       "      <th>MSCI - EAFE Index ($Net)</th>\n",
       "      <th>MSCI - Emerging Markets Index ($ Net)</th>\n",
       "      <th>S&amp;P - GSCI Total Index</th>\n",
       "      <th>MSCI - U.S. REIT Index</th>\n",
       "    </tr>\n",
       "  </thead>\n",
       "  <tbody>\n",
       "    <tr>\n",
       "      <th>Bloomberg Barclays - U.S. TIPS Index</th>\n",
       "      <td>2.67</td>\n",
       "      <td>1.24</td>\n",
       "      <td>1.27</td>\n",
       "      <td>2.03</td>\n",
       "      <td>0.15</td>\n",
       "      <td>0.26</td>\n",
       "      <td>-0.28</td>\n",
       "      <td>0.14</td>\n",
       "      <td>0.94</td>\n",
       "      <td>1.76</td>\n",
       "      <td>2.25</td>\n",
       "      <td>2.45</td>\n",
       "    </tr>\n",
       "    <tr>\n",
       "      <th>Bloomberg Barclays - U.S. Aggregate Index</th>\n",
       "      <td>1.24</td>\n",
       "      <td>0.95</td>\n",
       "      <td>0.47</td>\n",
       "      <td>1.28</td>\n",
       "      <td>-0.42</td>\n",
       "      <td>-0.31</td>\n",
       "      <td>-0.76</td>\n",
       "      <td>-0.41</td>\n",
       "      <td>0.08</td>\n",
       "      <td>0.18</td>\n",
       "      <td>-0.26</td>\n",
       "      <td>1.12</td>\n",
       "    </tr>\n",
       "    <tr>\n",
       "      <th>BofA Merrill Lynch - U.S. High Yield Index</th>\n",
       "      <td>1.27</td>\n",
       "      <td>0.47</td>\n",
       "      <td>6.65</td>\n",
       "      <td>1.16</td>\n",
       "      <td>7.51</td>\n",
       "      <td>6.74</td>\n",
       "      <td>10.02</td>\n",
       "      <td>8.26</td>\n",
       "      <td>8.30</td>\n",
       "      <td>11.21</td>\n",
       "      <td>5.49</td>\n",
       "      <td>9.18</td>\n",
       "    </tr>\n",
       "    <tr>\n",
       "      <th>FTSE - Non U.S. Govt Bond Index ($)</th>\n",
       "      <td>2.03</td>\n",
       "      <td>1.28</td>\n",
       "      <td>1.16</td>\n",
       "      <td>5.46</td>\n",
       "      <td>0.74</td>\n",
       "      <td>1.29</td>\n",
       "      <td>0.21</td>\n",
       "      <td>0.83</td>\n",
       "      <td>3.64</td>\n",
       "      <td>3.72</td>\n",
       "      <td>3.08</td>\n",
       "      <td>3.45</td>\n",
       "    </tr>\n",
       "    <tr>\n",
       "      <th>Russell - 1000 Growth Index</th>\n",
       "      <td>0.15</td>\n",
       "      <td>-0.42</td>\n",
       "      <td>7.51</td>\n",
       "      <td>0.74</td>\n",
       "      <td>23.11</td>\n",
       "      <td>15.72</td>\n",
       "      <td>26.27</td>\n",
       "      <td>17.11</td>\n",
       "      <td>18.26</td>\n",
       "      <td>22.45</td>\n",
       "      <td>8.84</td>\n",
       "      <td>13.55</td>\n",
       "    </tr>\n",
       "    <tr>\n",
       "      <th>Russell - 1000 Value Index</th>\n",
       "      <td>0.26</td>\n",
       "      <td>-0.31</td>\n",
       "      <td>6.74</td>\n",
       "      <td>1.29</td>\n",
       "      <td>15.72</td>\n",
       "      <td>17.63</td>\n",
       "      <td>18.42</td>\n",
       "      <td>18.28</td>\n",
       "      <td>16.02</td>\n",
       "      <td>18.34</td>\n",
       "      <td>7.94</td>\n",
       "      <td>16.49</td>\n",
       "    </tr>\n",
       "    <tr>\n",
       "      <th>Russell - 2000 Growth Index</th>\n",
       "      <td>-0.28</td>\n",
       "      <td>-0.76</td>\n",
       "      <td>10.02</td>\n",
       "      <td>0.21</td>\n",
       "      <td>26.27</td>\n",
       "      <td>18.42</td>\n",
       "      <td>41.38</td>\n",
       "      <td>27.81</td>\n",
       "      <td>22.28</td>\n",
       "      <td>28.78</td>\n",
       "      <td>12.47</td>\n",
       "      <td>19.72</td>\n",
       "    </tr>\n",
       "    <tr>\n",
       "      <th>Russell - 2000 Value Index</th>\n",
       "      <td>0.14</td>\n",
       "      <td>-0.41</td>\n",
       "      <td>8.26</td>\n",
       "      <td>0.83</td>\n",
       "      <td>17.11</td>\n",
       "      <td>18.28</td>\n",
       "      <td>27.81</td>\n",
       "      <td>26.68</td>\n",
       "      <td>17.43</td>\n",
       "      <td>20.81</td>\n",
       "      <td>9.27</td>\n",
       "      <td>22.40</td>\n",
       "    </tr>\n",
       "    <tr>\n",
       "      <th>MSCI - EAFE Index ($Net)</th>\n",
       "      <td>0.94</td>\n",
       "      <td>0.08</td>\n",
       "      <td>8.30</td>\n",
       "      <td>3.64</td>\n",
       "      <td>18.26</td>\n",
       "      <td>16.02</td>\n",
       "      <td>22.28</td>\n",
       "      <td>17.43</td>\n",
       "      <td>22.19</td>\n",
       "      <td>25.22</td>\n",
       "      <td>12.93</td>\n",
       "      <td>15.84</td>\n",
       "    </tr>\n",
       "    <tr>\n",
       "      <th>MSCI - Emerging Markets Index ($ Net)</th>\n",
       "      <td>1.76</td>\n",
       "      <td>0.18</td>\n",
       "      <td>11.21</td>\n",
       "      <td>3.72</td>\n",
       "      <td>22.45</td>\n",
       "      <td>18.34</td>\n",
       "      <td>28.78</td>\n",
       "      <td>20.81</td>\n",
       "      <td>25.22</td>\n",
       "      <td>39.65</td>\n",
       "      <td>17.35</td>\n",
       "      <td>18.57</td>\n",
       "    </tr>\n",
       "    <tr>\n",
       "      <th>S&amp;P - GSCI Total Index</th>\n",
       "      <td>2.25</td>\n",
       "      <td>-0.26</td>\n",
       "      <td>5.49</td>\n",
       "      <td>3.08</td>\n",
       "      <td>8.84</td>\n",
       "      <td>7.94</td>\n",
       "      <td>12.47</td>\n",
       "      <td>9.27</td>\n",
       "      <td>12.93</td>\n",
       "      <td>17.35</td>\n",
       "      <td>42.22</td>\n",
       "      <td>5.47</td>\n",
       "    </tr>\n",
       "    <tr>\n",
       "      <th>MSCI - U.S. REIT Index</th>\n",
       "      <td>2.45</td>\n",
       "      <td>1.12</td>\n",
       "      <td>9.18</td>\n",
       "      <td>3.45</td>\n",
       "      <td>13.55</td>\n",
       "      <td>16.49</td>\n",
       "      <td>19.72</td>\n",
       "      <td>22.40</td>\n",
       "      <td>15.84</td>\n",
       "      <td>18.57</td>\n",
       "      <td>5.47</td>\n",
       "      <td>36.14</td>\n",
       "    </tr>\n",
       "  </tbody>\n",
       "</table>\n",
       "</div>"
      ],
      "text/plain": [
       "                                            Bloomberg Barclays - U.S. TIPS Index  \\\n",
       "Bloomberg Barclays - U.S. TIPS Index                                        2.67   \n",
       "Bloomberg Barclays - U.S. Aggregate Index                                   1.24   \n",
       "BofA Merrill Lynch - U.S. High Yield Index                                  1.27   \n",
       "FTSE - Non U.S. Govt Bond Index ($)                                         2.03   \n",
       "Russell - 1000 Growth Index                                                 0.15   \n",
       "Russell - 1000 Value Index                                                  0.26   \n",
       "Russell - 2000 Growth Index                                                -0.28   \n",
       "Russell - 2000 Value Index                                                  0.14   \n",
       "MSCI - EAFE Index ($Net)                                                    0.94   \n",
       "MSCI - Emerging Markets Index ($ Net)                                       1.76   \n",
       "S&P - GSCI Total Index                                                      2.25   \n",
       "MSCI - U.S. REIT Index                                                      2.45   \n",
       "\n",
       "                                            Bloomberg Barclays - U.S. Aggregate Index  \\\n",
       "Bloomberg Barclays - U.S. TIPS Index                                             1.24   \n",
       "Bloomberg Barclays - U.S. Aggregate Index                                        0.95   \n",
       "BofA Merrill Lynch - U.S. High Yield Index                                       0.47   \n",
       "FTSE - Non U.S. Govt Bond Index ($)                                              1.28   \n",
       "Russell - 1000 Growth Index                                                     -0.42   \n",
       "Russell - 1000 Value Index                                                      -0.31   \n",
       "Russell - 2000 Growth Index                                                     -0.76   \n",
       "Russell - 2000 Value Index                                                      -0.41   \n",
       "MSCI - EAFE Index ($Net)                                                         0.08   \n",
       "MSCI - Emerging Markets Index ($ Net)                                            0.18   \n",
       "S&P - GSCI Total Index                                                          -0.26   \n",
       "MSCI - U.S. REIT Index                                                           1.12   \n",
       "\n",
       "                                            BofA Merrill Lynch - U.S. High Yield Index  \\\n",
       "Bloomberg Barclays - U.S. TIPS Index                                              1.27   \n",
       "Bloomberg Barclays - U.S. Aggregate Index                                         0.47   \n",
       "BofA Merrill Lynch - U.S. High Yield Index                                        6.65   \n",
       "FTSE - Non U.S. Govt Bond Index ($)                                               1.16   \n",
       "Russell - 1000 Growth Index                                                       7.51   \n",
       "Russell - 1000 Value Index                                                        6.74   \n",
       "Russell - 2000 Growth Index                                                      10.02   \n",
       "Russell - 2000 Value Index                                                        8.26   \n",
       "MSCI - EAFE Index ($Net)                                                          8.30   \n",
       "MSCI - Emerging Markets Index ($ Net)                                            11.21   \n",
       "S&P - GSCI Total Index                                                            5.49   \n",
       "MSCI - U.S. REIT Index                                                            9.18   \n",
       "\n",
       "                                            FTSE - Non U.S. Govt Bond Index ($)  \\\n",
       "Bloomberg Barclays - U.S. TIPS Index                                       2.03   \n",
       "Bloomberg Barclays - U.S. Aggregate Index                                  1.28   \n",
       "BofA Merrill Lynch - U.S. High Yield Index                                 1.16   \n",
       "FTSE - Non U.S. Govt Bond Index ($)                                        5.46   \n",
       "Russell - 1000 Growth Index                                                0.74   \n",
       "Russell - 1000 Value Index                                                 1.29   \n",
       "Russell - 2000 Growth Index                                                0.21   \n",
       "Russell - 2000 Value Index                                                 0.83   \n",
       "MSCI - EAFE Index ($Net)                                                   3.64   \n",
       "MSCI - Emerging Markets Index ($ Net)                                      3.72   \n",
       "S&P - GSCI Total Index                                                     3.08   \n",
       "MSCI - U.S. REIT Index                                                     3.45   \n",
       "\n",
       "                                            Russell - 1000 Growth Index  \\\n",
       "Bloomberg Barclays - U.S. TIPS Index                               0.15   \n",
       "Bloomberg Barclays - U.S. Aggregate Index                         -0.42   \n",
       "BofA Merrill Lynch - U.S. High Yield Index                         7.51   \n",
       "FTSE - Non U.S. Govt Bond Index ($)                                0.74   \n",
       "Russell - 1000 Growth Index                                       23.11   \n",
       "Russell - 1000 Value Index                                        15.72   \n",
       "Russell - 2000 Growth Index                                       26.27   \n",
       "Russell - 2000 Value Index                                        17.11   \n",
       "MSCI - EAFE Index ($Net)                                          18.26   \n",
       "MSCI - Emerging Markets Index ($ Net)                             22.45   \n",
       "S&P - GSCI Total Index                                             8.84   \n",
       "MSCI - U.S. REIT Index                                            13.55   \n",
       "\n",
       "                                            Russell - 1000 Value Index  \\\n",
       "Bloomberg Barclays - U.S. TIPS Index                              0.26   \n",
       "Bloomberg Barclays - U.S. Aggregate Index                        -0.31   \n",
       "BofA Merrill Lynch - U.S. High Yield Index                        6.74   \n",
       "FTSE - Non U.S. Govt Bond Index ($)                               1.29   \n",
       "Russell - 1000 Growth Index                                      15.72   \n",
       "Russell - 1000 Value Index                                       17.63   \n",
       "Russell - 2000 Growth Index                                      18.42   \n",
       "Russell - 2000 Value Index                                       18.28   \n",
       "MSCI - EAFE Index ($Net)                                         16.02   \n",
       "MSCI - Emerging Markets Index ($ Net)                            18.34   \n",
       "S&P - GSCI Total Index                                            7.94   \n",
       "MSCI - U.S. REIT Index                                           16.49   \n",
       "\n",
       "                                            Russell - 2000 Growth Index  \\\n",
       "Bloomberg Barclays - U.S. TIPS Index                              -0.28   \n",
       "Bloomberg Barclays - U.S. Aggregate Index                         -0.76   \n",
       "BofA Merrill Lynch - U.S. High Yield Index                        10.02   \n",
       "FTSE - Non U.S. Govt Bond Index ($)                                0.21   \n",
       "Russell - 1000 Growth Index                                       26.27   \n",
       "Russell - 1000 Value Index                                        18.42   \n",
       "Russell - 2000 Growth Index                                       41.38   \n",
       "Russell - 2000 Value Index                                        27.81   \n",
       "MSCI - EAFE Index ($Net)                                          22.28   \n",
       "MSCI - Emerging Markets Index ($ Net)                             28.78   \n",
       "S&P - GSCI Total Index                                            12.47   \n",
       "MSCI - U.S. REIT Index                                            19.72   \n",
       "\n",
       "                                            Russell - 2000 Value Index  \\\n",
       "Bloomberg Barclays - U.S. TIPS Index                              0.14   \n",
       "Bloomberg Barclays - U.S. Aggregate Index                        -0.41   \n",
       "BofA Merrill Lynch - U.S. High Yield Index                        8.26   \n",
       "FTSE - Non U.S. Govt Bond Index ($)                               0.83   \n",
       "Russell - 1000 Growth Index                                      17.11   \n",
       "Russell - 1000 Value Index                                       18.28   \n",
       "Russell - 2000 Growth Index                                      27.81   \n",
       "Russell - 2000 Value Index                                       26.68   \n",
       "MSCI - EAFE Index ($Net)                                         17.43   \n",
       "MSCI - Emerging Markets Index ($ Net)                            20.81   \n",
       "S&P - GSCI Total Index                                            9.27   \n",
       "MSCI - U.S. REIT Index                                           22.40   \n",
       "\n",
       "                                            MSCI - EAFE Index ($Net)  \\\n",
       "Bloomberg Barclays - U.S. TIPS Index                            0.94   \n",
       "Bloomberg Barclays - U.S. Aggregate Index                       0.08   \n",
       "BofA Merrill Lynch - U.S. High Yield Index                      8.30   \n",
       "FTSE - Non U.S. Govt Bond Index ($)                             3.64   \n",
       "Russell - 1000 Growth Index                                    18.26   \n",
       "Russell - 1000 Value Index                                     16.02   \n",
       "Russell - 2000 Growth Index                                    22.28   \n",
       "Russell - 2000 Value Index                                     17.43   \n",
       "MSCI - EAFE Index ($Net)                                       22.19   \n",
       "MSCI - Emerging Markets Index ($ Net)                          25.22   \n",
       "S&P - GSCI Total Index                                         12.93   \n",
       "MSCI - U.S. REIT Index                                         15.84   \n",
       "\n",
       "                                            MSCI - Emerging Markets Index ($ Net)  \\\n",
       "Bloomberg Barclays - U.S. TIPS Index                                         1.76   \n",
       "Bloomberg Barclays - U.S. Aggregate Index                                    0.18   \n",
       "BofA Merrill Lynch - U.S. High Yield Index                                  11.21   \n",
       "FTSE - Non U.S. Govt Bond Index ($)                                          3.72   \n",
       "Russell - 1000 Growth Index                                                 22.45   \n",
       "Russell - 1000 Value Index                                                  18.34   \n",
       "Russell - 2000 Growth Index                                                 28.78   \n",
       "Russell - 2000 Value Index                                                  20.81   \n",
       "MSCI - EAFE Index ($Net)                                                    25.22   \n",
       "MSCI - Emerging Markets Index ($ Net)                                       39.65   \n",
       "S&P - GSCI Total Index                                                      17.35   \n",
       "MSCI - U.S. REIT Index                                                      18.57   \n",
       "\n",
       "                                            S&P - GSCI Total Index  \\\n",
       "Bloomberg Barclays - U.S. TIPS Index                          2.25   \n",
       "Bloomberg Barclays - U.S. Aggregate Index                    -0.26   \n",
       "BofA Merrill Lynch - U.S. High Yield Index                    5.49   \n",
       "FTSE - Non U.S. Govt Bond Index ($)                           3.08   \n",
       "Russell - 1000 Growth Index                                   8.84   \n",
       "Russell - 1000 Value Index                                    7.94   \n",
       "Russell - 2000 Growth Index                                  12.47   \n",
       "Russell - 2000 Value Index                                    9.27   \n",
       "MSCI - EAFE Index ($Net)                                     12.93   \n",
       "MSCI - Emerging Markets Index ($ Net)                        17.35   \n",
       "S&P - GSCI Total Index                                       42.22   \n",
       "MSCI - U.S. REIT Index                                        5.47   \n",
       "\n",
       "                                            MSCI - U.S. REIT Index  \n",
       "Bloomberg Barclays - U.S. TIPS Index                          2.45  \n",
       "Bloomberg Barclays - U.S. Aggregate Index                     1.12  \n",
       "BofA Merrill Lynch - U.S. High Yield Index                    9.18  \n",
       "FTSE - Non U.S. Govt Bond Index ($)                           3.45  \n",
       "Russell - 1000 Growth Index                                  13.55  \n",
       "Russell - 1000 Value Index                                   16.49  \n",
       "Russell - 2000 Growth Index                                  19.72  \n",
       "Russell - 2000 Value Index                                   22.40  \n",
       "MSCI - EAFE Index ($Net)                                     15.84  \n",
       "MSCI - Emerging Markets Index ($ Net)                        18.57  \n",
       "S&P - GSCI Total Index                                        5.47  \n",
       "MSCI - U.S. REIT Index                                       36.14  "
      ]
     },
     "execution_count": 3,
     "metadata": {},
     "output_type": "execute_result"
    }
   ],
   "source": [
    "# Covariance\n",
    "Sigma=data.cov()*12\n",
    "np.round(data.cov(),2)"
   ]
  },
  {
   "cell_type": "code",
   "execution_count": 4,
   "metadata": {},
   "outputs": [
    {
     "data": {
      "text/plain": [
       "Bloomberg Barclays - U.S. TIPS Index          5.204746\n",
       "Bloomberg Barclays - U.S. Aggregate Index     4.549061\n",
       "BofA Merrill Lynch - U.S. High Yield Index    6.301820\n",
       "FTSE - Non U.S. Govt Bond Index ($)           3.404647\n",
       "Russell - 1000 Growth Index                   5.054799\n",
       "Russell - 1000 Value Index                    6.154283\n",
       "Russell - 2000 Growth Index                   6.139949\n",
       "Russell - 2000 Value Index                    8.227702\n",
       "MSCI - EAFE Index ($Net)                      3.521130\n",
       "MSCI - Emerging Markets Index ($ Net)         8.517774\n",
       "S&P - GSCI Total Index                        0.569754\n",
       "MSCI - U.S. REIT Index                        9.651477\n",
       "dtype: float64"
      ]
     },
     "execution_count": 4,
     "metadata": {},
     "output_type": "execute_result"
    }
   ],
   "source": [
    "# Annualized Return\n",
    "m_ret = data/100 + 1\n",
    "y_ret = (m_ret.prod()**(12/len(m_ret))-1)*100\n",
    "y_ret"
   ]
  },
  {
   "cell_type": "code",
   "execution_count": 5,
   "metadata": {},
   "outputs": [
    {
     "data": {
      "text/plain": [
       "array([[-0.26479199, -0.18281607],\n",
       "       [ 1.20175145,  1.1266578 ],\n",
       "       [ 0.04951453,  0.08328334],\n",
       "       [-0.04803426, -0.06954315],\n",
       "       [ 0.03107269,  0.06533554],\n",
       "       [ 0.07572186,  0.04304435],\n",
       "       [-0.00318499, -0.05857769],\n",
       "       [ 0.03723636,  0.12382533],\n",
       "       [-0.03350547, -0.13657334],\n",
       "       [-0.02416522,  0.04459294],\n",
       "       [ 0.03334852,  0.01142395],\n",
       "       [-0.05496348, -0.05065302]])"
      ]
     },
     "execution_count": 5,
     "metadata": {},
     "output_type": "execute_result"
    }
   ],
   "source": [
    "# Unit vector\n",
    "unit_vec=np.ones([len(data.columns),1])\n",
    "\n",
    "# Calculate the minimum variance portfolio and the pseudo-maximum sharpe ratio portfolio\n",
    "Sigma_inv = np.linalg.inv(Sigma);\n",
    "w_minv_ideal = Sigma_inv.dot(unit_vec)/(unit_vec.T.dot(Sigma_inv)).dot(unit_vec);\n",
    "w_msr_ideal = Sigma_inv.dot(y_ret)/(unit_vec.T.dot(Sigma_inv)).dot(y_ret);\n",
    "w_msr_ideal = w_msr_ideal.reshape(-1,1)\n",
    "weight_ideal = np.hstack((w_minv_ideal,w_msr_ideal))\n",
    "weight_ideal"
   ]
  },
  {
   "cell_type": "code",
   "execution_count": 6,
   "metadata": {},
   "outputs": [],
   "source": [
    "# Build the efficient frontier\n",
    "\n",
    "def wt_fun(c,w_minv,w_msr):\n",
    "    wt = (1-c)*w_minv + c*w_msr\n",
    "    return wt\n",
    "\n",
    "\n",
    "def ret_func(c,w_minv,w_msr):\n",
    "    wt = wt_fun(c,w_minv,w_msr)\n",
    "    ret = y_ret.T.dot(wt)\n",
    "    return(ret)\n",
    "\n",
    "\n",
    "def risk_func(c,w_minv,w_msr):\n",
    "    wt = wt_fun(c,w_minv,w_msr)\n",
    "    risk = np.sqrt(np.diagonal((wt.T.dot(Sigma)).dot(wt)))\n",
    "    return(risk)"
   ]
  },
  {
   "cell_type": "code",
   "execution_count": 7,
   "metadata": {},
   "outputs": [
    {
     "data": {
      "text/plain": [
       "Text(0.5, 1.0, 'Efficient Frontier (No Risk-Free Asset & Allow Short)')"
      ]
     },
     "execution_count": 7,
     "metadata": {},
     "output_type": "execute_result"
    },
    {
     "data": {
      "image/png": "[encoded data removed]",
      "text/plain": [
       "<Figure size 720x288 with 1 Axes>"
      ]
     },
     "metadata": {
      "needs_background": "light"
     },
     "output_type": "display_data"
    }
   ],
   "source": [
    "c = np.linspace(0,5,50)\n",
    "ret_ideal = ret_func(c,w_minv_ideal,w_msr_ideal)\n",
    "risk_ideal = risk_func(c,w_minv_ideal,w_msr_ideal)\n",
    "\n",
    "fig= plt.figure(figsize=(10,4))\n",
    "plt.plot(risk_ideal,ret_ideal)\n",
    "plt.plot([0,risk_func(1,w_minv_ideal,w_msr_ideal)],[0,ret_func(1,w_minv_ideal,w_msr_ideal)],'k--')\n",
    "plt.xlim(0,7)\n",
    "plt.ylim(0,9)\n",
    "plt.xlabel('Portfolio Expected Return')\n",
    "plt.ylabel('Portfolio Risk')\n",
    "plt.title('Efficient Frontier (No Risk-Free Asset & Allow Short)')"
   ]
  },
  {
   "cell_type": "code",
   "execution_count": 8,
   "metadata": {},
   "outputs": [],
   "source": [
    "# plot portfolio possibilities curve\n",
    "def get_return_risk(port_i_weights_array,y_ret,y_ret_cov,r_f):\n",
    "    port_i_y_ret = np.sum(y_ret*port_i_weights_array)\n",
    "    port_i_y_sigma = np.sqrt(np.dot(port_i_weights_array,np.dot(y_ret_cov,port_i_weights_array.T)))\n",
    "    port_i_sharpe_ratio = (port_i_y_ret - r_f)/port_i_y_sigma\n",
    "    return port_i_y_ret,port_i_y_sigma,port_i_sharpe_ratio"
   ]
  },
  {
   "cell_type": "code",
   "execution_count": 9,
   "metadata": {},
   "outputs": [],
   "source": [
    "# define the minimum objective\n",
    "def min_neg_sharpe(init_weights_array):\n",
    "    return -get_return_risk(init_weights_array,y_ret,y_ret_cov,r_f)[2]\n",
    "\n",
    "def min_sigma(init_weights_array):\n",
    "    return get_return_risk(init_weights_array,y_ret,y_ret_cov,r_f)[1]"
   ]
  },
  {
   "cell_type": "code",
   "execution_count": 10,
   "metadata": {},
   "outputs": [],
   "source": [
    "# Get the all posible portfolio \n",
    "from scipy.optimize import minimize\n",
    "\n",
    "def get_all_frontier(y_ret,y_ret_cov,r_f,short_selling=True):\n",
    "    stock_num = len(y_ret)\n",
    "    frontier_returns_array = np.linspace(2,8,50)\n",
    "    frontier_sigma_array = []\n",
    "    \n",
    "    for ret in frontier_returns_array:\n",
    "        #1. returns of frontier equals ret 2.the sum of weights equal to 1\n",
    "        frontier_cons = ({'type':'eq','fun':lambda x:get_return_risk(x,y_ret,y_ret_cov,r_f)[0]-ret},\n",
    "                        {'type':'eq','fun':lambda x:np.sum(x)-1})\n",
    "        if short_selling==True:\n",
    "            frontier_point = minimize(min_sigma,stock_num*[1./stock_num,],\n",
    "                                 method = 'SLSQP', constraints = frontier_cons)\n",
    "            frontier_sigma_array.append(frontier_point['fun'])\n",
    "        if short_selling==False:\n",
    "            #3. each weight is larger than 0 (no short selling)\n",
    "            BNPS = tuple((0.0,1.0) for x in range(stock_num))\n",
    "            frontier_point = minimize(min_sigma,stock_num*[1./stock_num,],\n",
    "                                 method = 'SLSQP', constraints = frontier_cons,bounds=BNPS)\n",
    "            frontier_sigma_array.append(frontier_point['fun'])\n",
    "    \n",
    "    frontier_sigma_array =np.array(frontier_sigma_array)\n",
    "    return frontier_returns_array,frontier_sigma_array"
   ]
  },
  {
   "cell_type": "code",
   "execution_count": 11,
   "metadata": {},
   "outputs": [],
   "source": [
    "# Define the efficient frontier\n",
    "from scipy.optimize import minimize\n",
    "\n",
    "def get_efficient_frontier(y_ret,y_ret_cov,r_f,min_variance_ret,short_selling=True):\n",
    "    stock_num = len(y_ret)\n",
    "    frontier_returns_array = np.linspace(min_variance_ret,8,50)\n",
    "    frontier_sigma_array = []\n",
    "    \n",
    "    for ret in frontier_returns_array:\n",
    "        #1. returns of frontier equals ret 2.the sum of weights equal to 1\n",
    "        frontier_cons = ({'type':'eq','fun':lambda x:get_return_risk(x,y_ret,y_ret_cov,r_f)[0]-ret},\n",
    "                        {'type':'eq','fun':lambda x:np.sum(x)-1})\n",
    "        if short_selling==True:\n",
    "            frontier_point = minimize(min_sigma,stock_num*[1./stock_num,],\n",
    "                                 method = 'SLSQP', constraints = frontier_cons)\n",
    "            frontier_sigma_array.append(frontier_point['fun'])\n",
    "        if short_selling==False:\n",
    "            #3. each weight is larger than 0 (no short selling)\n",
    "            BNPS = tuple((0.0,1.0) for x in range(stock_num))\n",
    "            frontier_point = minimize(min_sigma,stock_num*[1./stock_num,],\n",
    "                                 method = 'SLSQP', constraints = frontier_cons,bounds=BNPS)\n",
    "            frontier_sigma_array.append(frontier_point['fun'])\n",
    "    \n",
    "    frontier_sigma_array =np.array(frontier_sigma_array)\n",
    "    return frontier_returns_array,frontier_sigma_array"
   ]
  },
  {
   "cell_type": "code",
   "execution_count": 12,
   "metadata": {},
   "outputs": [],
   "source": [
    "# Caculate efficient frontier portfolios\n",
    "y_ret_cov=Sigma\n",
    "r_f=0\n",
    "frontier_ret,frontier_sigma = get_all_frontier(y_ret,y_ret_cov,r_f)"
   ]
  },
  {
   "cell_type": "code",
   "execution_count": 13,
   "metadata": {},
   "outputs": [
    {
     "data": {
      "text/plain": [
       "<matplotlib.legend.Legend at 0x1a233dd940>"
      ]
     },
     "execution_count": 13,
     "metadata": {},
     "output_type": "execute_result"
    },
    {
     "data": {
      "image/png": "[encoded data removed]",
      "text/plain": [
       "<Figure size 1440x720 with 1 Axes>"
      ]
     },
     "metadata": {
      "needs_background": "light"
     },
     "output_type": "display_data"
    }
   ],
   "source": [
    "# plot possible portfolio and efficient frontier\n",
    "plt.figure(figsize = (20,10))\n",
    "plt.plot(frontier_sigma,frontier_ret,label='All Possible Portfolio')\n",
    "plt.plot(risk_ideal,ret_ideal,label='Efficient Frontier')\n",
    "plt.plot([0,risk_func(1,w_minv_ideal,w_msr_ideal)],[0,ret_func(1,w_minv_ideal,w_msr_ideal)],'k--',label='Capital Allocation Line')\n",
    "plt.ylabel('Expected return (%)')\n",
    "plt.xlabel('Portfolio Risk')\n",
    "plt.title('Portfolio possibilities curve')\n",
    "plt.xlim(0,7)\n",
    "plt.ylim(0,8)\n",
    "plt.title('The All Possible Portfolio and The Efficient Frontier Without Short Sell Restriction')\n",
    "plt.legend()"
   ]
  },
  {
   "cell_type": "markdown",
   "metadata": {},
   "source": [
    "## *Short Selling is not allowed*"
   ]
  },
  {
   "cell_type": "code",
   "execution_count": 15,
   "metadata": {},
   "outputs": [],
   "source": [
    "# define the Constraints \n",
    "stock_nums = len(data.columns)\n",
    "# 1. sum of weights equals to 1\n",
    "CONS = ({'type':'eq','fun':lambda x:np.sum(x)-1})\n",
    "# 2. each weight is larger than 0 (no short selling)\n",
    "BNPS = tuple((0.0,1.0) for x in range(stock_nums))"
   ]
  },
  {
   "cell_type": "code",
   "execution_count": 16,
   "metadata": {},
   "outputs": [
    {
     "data": {
      "text/plain": [
       "     fun: 3.203592756130918\n",
       "     jac: array([4.47029814, 3.2036576 , 3.55478755, 4.83354437, 3.20282504,\n",
       "       3.20645887, 3.20187211, 3.3797366 , 4.83113062, 6.13470384,\n",
       "       3.1926755 , 7.84063438])\n",
       " message: 'Optimization terminated successfully.'\n",
       "    nfev: 133\n",
       "     nit: 9\n",
       "    njev: 9\n",
       "  status: 0\n",
       " success: True\n",
       "       x: array([1.08787976e-14, 9.26511574e-01, 0.00000000e+00, 1.38857450e-14,\n",
       "       1.30314398e-02, 3.88210911e-02, 8.06805479e-03, 0.00000000e+00,\n",
       "       5.23119682e-15, 1.10846444e-14, 1.35678407e-02, 3.13140632e-14])"
      ]
     },
     "execution_count": 16,
     "metadata": {},
     "output_type": "execute_result"
    }
   ],
   "source": [
    "# calculate the minimum variance portfolio\n",
    "\n",
    "r_f = 0\n",
    "y_ret_cov = Sigma\n",
    "\n",
    "#init_weights_array = stock_nums*[1.0/stock_nums,]\n",
    "MIN_SIGMA = minimize(min_sigma,stock_nums*[1.0/stock_nums,],\n",
    "                    method = 'SLSQP',bounds=BNPS,constraints=CONS)\n",
    "\n",
    "MIN_SIGMA"
   ]
  },
  {
   "cell_type": "code",
   "execution_count": 17,
   "metadata": {},
   "outputs": [
    {
     "name": "stdout",
     "output_type": "stream",
     "text": [
      "If the short-sell is not allowed, the variance of minimum-variance portfolio is 3.203593 ; The return of minimum-variance portfolio is 4.576813\n"
     ]
    }
   ],
   "source": [
    "# 1. locate the minimum-variance portfolio\n",
    "w_minv = MIN_SIGMA['x'].reshape(-1,1)\n",
    "min_sigma_restrict = MIN_SIGMA['fun']\n",
    "min_sigma_ret_restrict = np.dot(w_minv.T,y_ret)\n",
    "print(\"If the short-sell is not allowed, the variance of minimum-variance portfolio is %f ; The return of minimum-variance portfolio is %f\" % (min_sigma_restrict,min_sigma_ret_restrict))"
   ]
  },
  {
   "cell_type": "code",
   "execution_count": 19,
   "metadata": {},
   "outputs": [
    {
     "name": "stdout",
     "output_type": "stream",
     "text": [
      "The returns of the two portfolios are  [5.57681254 7.57681254]\n",
      "The sigma of the two portfolios are [4.833390660467689, 11.57023990536093]\n",
      "[[2.47562530e-01 3.59829853e-01]\n",
      " [4.64893921e-01 8.46471758e-14]\n",
      " [1.33333167e-01 6.63259533e-02]\n",
      " [0.00000000e+00 3.40884492e-14]\n",
      " [1.19720314e-14 3.11423317e-15]\n",
      " [1.09437199e-14 1.09920590e-14]\n",
      " [6.25443707e-15 0.00000000e+00]\n",
      " [1.06920865e-01 8.29517812e-02]\n",
      " [0.00000000e+00 0.00000000e+00]\n",
      " [2.54614322e-03 1.18482566e-01]\n",
      " [0.00000000e+00 0.00000000e+00]\n",
      " [4.47433734e-02 3.72409847e-01]]\n"
     ]
    }
   ],
   "source": [
    "# 2. locate two other efficient portfolios different than the minimum-variance portfolio\n",
    "stock_num = len(data.columns)\n",
    "frontier_returns_array = np.linspace(min_sigma_ret_restrict+1,min_sigma_ret_restrict+3,2)\n",
    "y_ret_cov = Sigma\n",
    "r_f = 0\n",
    "frontier_sigma_array =[]\n",
    "weights = np.empty((len(y_ret),1))*[]\n",
    "for ret in frontier_returns_array:\n",
    "    frontier_cons = ({'type':'eq','fun':lambda x:get_return_risk(x,y_ret,y_ret_cov,r_f)[0]-ret},\n",
    "                        {'type':'eq','fun':lambda x:np.sum(x)-1})\n",
    "    BNPS = tuple((0.0,1.0) for x in range(stock_num))\n",
    "    frontier_point = minimize(min_sigma,stock_num*[1./stock_num,],method = 'SLSQP',constraints = frontier_cons,bounds=BNPS)\n",
    "    frontier_sigma_array.append(frontier_point['fun'])\n",
    "    w = frontier_point['x'].reshape(-1,1)\n",
    "    weights = np.hstack((weights,w))\n",
    "print('The returns of the two portfolios are ',frontier_returns_array)\n",
    "print('The sigma of the two portfolios are', frontier_sigma_array)\n",
    "print(weights)"
   ]
  },
  {
   "cell_type": "code",
   "execution_count": 20,
   "metadata": {},
   "outputs": [
    {
     "data": {
      "text/plain": [
       "Text(0, 0.5, 'Return')"
      ]
     },
     "execution_count": 20,
     "metadata": {},
     "output_type": "execute_result"
    },
    {
     "data": {
      "image/png": "[encoded data removed]",
      "text/plain": [
       "<Figure size 432x288 with 1 Axes>"
      ]
     },
     "metadata": {
      "needs_background": "light"
     },
     "output_type": "display_data"
    }
   ],
   "source": [
    "# The combination of this two portfolio\n",
    "w1 = weights[:,0]\n",
    "w2 = weights[:,1]\n",
    "c = np.linspace(0,1,10)\n",
    "wts = [(1-w)*w1 + w*w2 for w in c]\n",
    "ret_port = [y_ret.T.dot(wt) for wt in wts]\n",
    "risk_port = [np.sqrt(np.dot(np.dot(wt.T,Sigma),wt)) for wt in wts]\n",
    "\n",
    "plt.plot(risk_port,ret_port)\n",
    "plt.plot(frontier_sigma_array[0],frontier_returns_array[0],marker=\"o\",c='g')\n",
    "plt.text(frontier_sigma_array[0],frontier_returns_array[0],' A')\n",
    "plt.plot(frontier_sigma_array[1],frontier_returns_array[1],marker=\"o\",c='g')\n",
    "plt.text(frontier_sigma_array[1],frontier_returns_array[1],' B')\n",
    "plt.plot(min_sigma_restrict,min_sigma_ret_restrict,marker=\"*\",c='r',ms=15)\n",
    "plt.text(min_sigma_restrict,min_sigma_ret_restrict,'minimum-variance portfolio')\n",
    "plt.xlabel('Risk')\n",
    "plt.ylabel('Return')"
   ]
  },
  {
   "cell_type": "markdown",
   "metadata": {},
   "source": [
    "According to this figure, minimum-variance portfolio cannot be represented as a combination of the two portfolios found on 2A if the short selling is not allowed."
   ]
  },
  {
   "cell_type": "code",
   "execution_count": 21,
   "metadata": {},
   "outputs": [],
   "source": [
    "# Calculate the efficient frontier with short selling restriction and without restriction\n",
    "y_ret_cov=Sigma\n",
    "r_f=0\n",
    "min_variance_ret = min_sigma_ret_restrict\n",
    "frontier_ret_rest,frontier_sigma_rest = get_all_frontier(y_ret,y_ret_cov,r_f,short_selling=False)\n",
    "ret_ideal_rest,risk_ideal_rest = get_efficient_frontier(y_ret,y_ret_cov,r_f,min_variance_ret,short_selling=False)\n",
    "min_risk_ideal = np.amin(risk_ideal)\n",
    "min_risk_ret_ideal = ret_ideal[np.where(risk_ideal == np.amin(risk_ideal))[0]]"
   ]
  },
  {
   "cell_type": "code",
   "execution_count": 22,
   "metadata": {},
   "outputs": [
    {
     "data": {
      "text/plain": [
       "(0, 15)"
      ]
     },
     "execution_count": 22,
     "metadata": {},
     "output_type": "execute_result"
    },
    {
     "data": {
      "image/png": "[encoded data removed]",
      "text/plain": [
       "<Figure size 1440x720 with 1 Axes>"
      ]
     },
     "metadata": {
      "needs_background": "light"
     },
     "output_type": "display_data"
    }
   ],
   "source": [
    "# Plot them together\n",
    "fig = plt.figure(figsize=(20,10))\n",
    "plt.plot(frontier_sigma_rest,frontier_ret_rest,label='All Possible Portfolio with Short Selling Restriction')\n",
    "plt.plot(frontier_sigma,frontier_ret,label='All Possible Portfolio No Restriction')\n",
    "plt.plot(risk_ideal,ret_ideal,label='Efficient Frontier No Resctriction')\n",
    "plt.plot(risk_ideal_rest,ret_ideal_rest,label='Efficient Frontier With Restriction')\n",
    "plt.plot(risk_port,ret_port,label='Combination of P_A and P_B')\n",
    "plt.plot(frontier_sigma_array[0],frontier_returns_array[0],marker=\"o\",c='g')\n",
    "plt.text(frontier_sigma_array[0],frontier_returns_array[0],' A')\n",
    "plt.plot(frontier_sigma_array[1],frontier_returns_array[1],marker=\"o\",c='g')\n",
    "plt.text(frontier_sigma_array[1],frontier_returns_array[1],' B')\n",
    "plt.plot(min_sigma_restrict,min_sigma_ret_restrict,marker=\"*\",c='r',ms=15)\n",
    "plt.plot(min_risk_ideal,min_risk_ret_ideal,marker=\"*\",c='r',ms=15)\n",
    "plt.legend()\n",
    "plt.xlabel('Risk:Standard Deviation')\n",
    "plt.ylabel('Expected Return')\n",
    "plt.ylim(0,9)\n",
    "plt.xlim(0,15)"
   ]
  },
  {
   "cell_type": "code",
   "execution_count": null,
   "metadata": {},
   "outputs": [],
   "source": []
  }
 ],
 "metadata": {
  "kernelspec": {
   "display_name": "Python 3",
   "language": "python",
   "name": "python3"
  },
  "language_info": {
   "codemirror_mode": {
    "name": "ipython",
    "version": 3
   },
   "file_extension": ".py",
   "mimetype": "text/x-python",
   "name": "python",
   "nbconvert_exporter": "python",
   "pygments_lexer": "ipython3",
   "version": "3.7.1"
  }
 },
 "nbformat": 4,
 "nbformat_minor": 2
}
