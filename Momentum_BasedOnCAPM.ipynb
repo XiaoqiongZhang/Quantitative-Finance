{
 "cells": [
  {
   "cell_type": "markdown",
   "metadata": {},
   "source": [
    "# Portfolio based on Capital Asset Pricing Model\n",
    "* note: assuming risk-free rate of 0\n",
    "* Our Hypothesis: Stock Alpha Is Persistent (Note: this is a momentum strategy)\n",
    "\n",
    "*The stock selection and portfolio construction is as follows:*\n",
    "* Step 1: at each month-end date, we calculate CAPM-implied idiosyncractic mean returns (security's Jensen's alpha) of all stocks based on past 3 years of observations\n",
    "\n",
    "* Step 2: based on the results of Step 1, we include all stocks in the top quartile based on their alpha rankings, and build an equal-weighted portfolio\n",
    "\n",
    "* Step 3: the portfolio would be held for one month and be rebalanced at each month-end date"
   ]
  },
  {
   "cell_type": "code",
   "execution_count": 1,
   "metadata": {},
   "outputs": [],
   "source": [
    "import pandas as pd\n",
    "import numpy as np\n",
    "import matplotlib.pyplot as plt\n",
    "import seaborn as sns\n",
    "import warnings\n",
    "warnings.filterwarnings('ignore')"
   ]
  },
  {
   "cell_type": "markdown",
   "metadata": {},
   "source": [
    "### *Data Processing*"
   ]
  },
  {
   "cell_type": "code",
   "execution_count": 2,
   "metadata": {},
   "outputs": [],
   "source": [
    "# Load Data\n",
    "df_stock_info = pd.read_excel('DataSource.xlsx',sheetname='StockList',index_col=[0])\n",
    "df_stock_info = df_stock_info[df_stock_info.columns[0:6]]\n",
    "\n",
    "df_price = pd.read_excel('DataSource.xlsx',sheetname='StockMonthlyPrices',parse_dates=True)[0:506].T\n",
    "df_price = df_price.rename(df_price.iloc[0],axis=1)\n",
    "df_price = df_price.drop(df_price.index[0])\n",
    "df_price = df_price.drop(df_price.columns[[-1]],axis=1)\n",
    "df_price = df_price.astype('float')\n",
    "\n",
    "df_market = pd.read_excel('DataSource.xlsx',sheetname='CAPMAssets', header=2,parse_dates=[0],index_col=[0])\n",
    "spy_ret = df_market['S&P - 500 Index']\n",
    "spy_ret = spy_ret.to_period('M')"
   ]
  },
  {
   "cell_type": "code",
   "execution_count": 3,
   "metadata": {},
   "outputs": [],
   "source": [
    "# Calculate Return\n",
    "df_ret = df_price/df_price.shift(1)-1\n",
    "df_ret = df_ret.set_index(pd.to_datetime(df_price.index))\n",
    "df_ret = df_ret.to_period('M')"
   ]
  },
  {
   "cell_type": "code",
   "execution_count": 4,
   "metadata": {},
   "outputs": [],
   "source": [
    "# starting from 2004-12-31 (so we have enough observations)\n",
    "spy_ret = spy_ret.truncate(before=pd.Timestamp('2004-12'))/100\n",
    "df_ret = df_ret.truncate(before=pd.Timestamp('2004-12'))\n",
    "stocks_ret = df_ret.copy()\n",
    "df_ret['market'] = spy_ret"
   ]
  },
  {
   "cell_type": "code",
   "execution_count": 5,
   "metadata": {},
   "outputs": [
    {
     "data": {
      "text/plain": [
       "Period Ending\n",
       "2004-12    0.034029\n",
       "2005-01   -0.024375\n",
       "2005-02    0.021044\n",
       "2005-03   -0.017708\n",
       "2005-04   -0.018966\n",
       "Freq: M, Name: S&P - 500 Index, dtype: float64"
      ]
     },
     "execution_count": 5,
     "metadata": {},
     "output_type": "execute_result"
    }
   ],
   "source": [
    "spy_ret.head()"
   ]
  },
  {
   "cell_type": "code",
   "execution_count": 6,
   "metadata": {},
   "outputs": [
    {
     "data": {
      "text/html": [
       "<div>\n",
       "<style scoped>\n",
       "    .dataframe tbody tr th:only-of-type {\n",
       "        vertical-align: middle;\n",
       "    }\n",
       "\n",
       "    .dataframe tbody tr th {\n",
       "        vertical-align: top;\n",
       "    }\n",
       "\n",
       "    .dataframe thead th {\n",
       "        text-align: right;\n",
       "    }\n",
       "</style>\n",
       "<table border=\"1\" class=\"dataframe\">\n",
       "  <thead>\n",
       "    <tr style=\"text-align: right;\">\n",
       "      <th></th>\n",
       "      <th>88579Y101</th>\n",
       "      <th>002824100</th>\n",
       "      <th>00287Y109</th>\n",
       "      <th>003654100</th>\n",
       "      <th>G1151C101</th>\n",
       "      <th>00507V109</th>\n",
       "      <th>00724F101</th>\n",
       "      <th>00751Y106</th>\n",
       "      <th>007903107</th>\n",
       "      <th>00130H105</th>\n",
       "      <th>...</th>\n",
       "      <th>983134107</th>\n",
       "      <th>98389B100</th>\n",
       "      <th>984121608</th>\n",
       "      <th>983919101</th>\n",
       "      <th>98419M100</th>\n",
       "      <th>988498101</th>\n",
       "      <th>98956P102</th>\n",
       "      <th>989701107</th>\n",
       "      <th>98978V103</th>\n",
       "      <th>market</th>\n",
       "    </tr>\n",
       "  </thead>\n",
       "  <tbody>\n",
       "    <tr>\n",
       "      <th>2004-12</th>\n",
       "      <td>0.031157</td>\n",
       "      <td>0.111774</td>\n",
       "      <td>NaN</td>\n",
       "      <td>0.017128</td>\n",
       "      <td>0.040864</td>\n",
       "      <td>0.283695</td>\n",
       "      <td>0.036202</td>\n",
       "      <td>0.058640</td>\n",
       "      <td>0.034774</td>\n",
       "      <td>0.116830</td>\n",
       "      <td>...</td>\n",
       "      <td>0.152006</td>\n",
       "      <td>0.019205</td>\n",
       "      <td>0.110313</td>\n",
       "      <td>-0.049645</td>\n",
       "      <td>NaN</td>\n",
       "      <td>0.039209</td>\n",
       "      <td>-0.018137</td>\n",
       "      <td>0.023007</td>\n",
       "      <td>NaN</td>\n",
       "      <td>0.034029</td>\n",
       "    </tr>\n",
       "    <tr>\n",
       "      <th>2005-01</th>\n",
       "      <td>0.027904</td>\n",
       "      <td>-0.029596</td>\n",
       "      <td>NaN</td>\n",
       "      <td>-0.230570</td>\n",
       "      <td>-0.035185</td>\n",
       "      <td>0.119934</td>\n",
       "      <td>-0.093083</td>\n",
       "      <td>-0.013290</td>\n",
       "      <td>-0.282470</td>\n",
       "      <td>0.027798</td>\n",
       "      <td>...</td>\n",
       "      <td>-0.020323</td>\n",
       "      <td>-0.000551</td>\n",
       "      <td>-0.066431</td>\n",
       "      <td>-0.016181</td>\n",
       "      <td>NaN</td>\n",
       "      <td>-0.015457</td>\n",
       "      <td>-0.015851</td>\n",
       "      <td>-0.003086</td>\n",
       "      <td>NaN</td>\n",
       "      <td>-0.024375</td>\n",
       "    </tr>\n",
       "    <tr>\n",
       "      <th>2005-02</th>\n",
       "      <td>0.000000</td>\n",
       "      <td>0.021544</td>\n",
       "      <td>NaN</td>\n",
       "      <td>-0.099327</td>\n",
       "      <td>-0.019194</td>\n",
       "      <td>-0.032755</td>\n",
       "      <td>0.085239</td>\n",
       "      <td>0.168935</td>\n",
       "      <td>0.104430</td>\n",
       "      <td>0.191459</td>\n",
       "      <td>...</td>\n",
       "      <td>0.091672</td>\n",
       "      <td>-0.025838</td>\n",
       "      <td>-0.017632</td>\n",
       "      <td>0.036344</td>\n",
       "      <td>NaN</td>\n",
       "      <td>0.052425</td>\n",
       "      <td>0.089410</td>\n",
       "      <td>-0.020266</td>\n",
       "      <td>NaN</td>\n",
       "      <td>0.021044</td>\n",
       "    </tr>\n",
       "    <tr>\n",
       "      <th>2005-03</th>\n",
       "      <td>0.020851</td>\n",
       "      <td>0.013701</td>\n",
       "      <td>NaN</td>\n",
       "      <td>-0.011215</td>\n",
       "      <td>-0.054795</td>\n",
       "      <td>-0.097282</td>\n",
       "      <td>0.087979</td>\n",
       "      <td>0.001370</td>\n",
       "      <td>-0.076218</td>\n",
       "      <td>-0.021505</td>\n",
       "      <td>...</td>\n",
       "      <td>-0.053514</td>\n",
       "      <td>-0.018331</td>\n",
       "      <td>-0.028847</td>\n",
       "      <td>-0.032118</td>\n",
       "      <td>NaN</td>\n",
       "      <td>0.062115</td>\n",
       "      <td>-0.094179</td>\n",
       "      <td>0.044176</td>\n",
       "      <td>NaN</td>\n",
       "      <td>-0.017708</td>\n",
       "    </tr>\n",
       "    <tr>\n",
       "      <th>2005-04</th>\n",
       "      <td>-0.107604</td>\n",
       "      <td>0.060518</td>\n",
       "      <td>NaN</td>\n",
       "      <td>-0.040643</td>\n",
       "      <td>-0.101449</td>\n",
       "      <td>-0.022973</td>\n",
       "      <td>-0.114637</td>\n",
       "      <td>0.057503</td>\n",
       "      <td>-0.117246</td>\n",
       "      <td>-0.018315</td>\n",
       "      <td>...</td>\n",
       "      <td>-0.218482</td>\n",
       "      <td>0.000000</td>\n",
       "      <td>-0.125413</td>\n",
       "      <td>-0.078343</td>\n",
       "      <td>NaN</td>\n",
       "      <td>-0.091828</td>\n",
       "      <td>0.046395</td>\n",
       "      <td>0.014633</td>\n",
       "      <td>NaN</td>\n",
       "      <td>-0.018966</td>\n",
       "    </tr>\n",
       "  </tbody>\n",
       "</table>\n",
       "<p>5 rows × 506 columns</p>\n",
       "</div>"
      ],
      "text/plain": [
       "         88579Y101  002824100  00287Y109  003654100  G1151C101  00507V109  \\\n",
       "2004-12   0.031157   0.111774        NaN   0.017128   0.040864   0.283695   \n",
       "2005-01   0.027904  -0.029596        NaN  -0.230570  -0.035185   0.119934   \n",
       "2005-02   0.000000   0.021544        NaN  -0.099327  -0.019194  -0.032755   \n",
       "2005-03   0.020851   0.013701        NaN  -0.011215  -0.054795  -0.097282   \n",
       "2005-04  -0.107604   0.060518        NaN  -0.040643  -0.101449  -0.022973   \n",
       "\n",
       "         00724F101  00751Y106  007903107  00130H105    ...     983134107  \\\n",
       "2004-12   0.036202   0.058640   0.034774   0.116830    ...      0.152006   \n",
       "2005-01  -0.093083  -0.013290  -0.282470   0.027798    ...     -0.020323   \n",
       "2005-02   0.085239   0.168935   0.104430   0.191459    ...      0.091672   \n",
       "2005-03   0.087979   0.001370  -0.076218  -0.021505    ...     -0.053514   \n",
       "2005-04  -0.114637   0.057503  -0.117246  -0.018315    ...     -0.218482   \n",
       "\n",
       "         98389B100  984121608  983919101  98419M100  988498101  98956P102  \\\n",
       "2004-12   0.019205   0.110313  -0.049645        NaN   0.039209  -0.018137   \n",
       "2005-01  -0.000551  -0.066431  -0.016181        NaN  -0.015457  -0.015851   \n",
       "2005-02  -0.025838  -0.017632   0.036344        NaN   0.052425   0.089410   \n",
       "2005-03  -0.018331  -0.028847  -0.032118        NaN   0.062115  -0.094179   \n",
       "2005-04   0.000000  -0.125413  -0.078343        NaN  -0.091828   0.046395   \n",
       "\n",
       "         989701107  98978V103    market  \n",
       "2004-12   0.023007        NaN  0.034029  \n",
       "2005-01  -0.003086        NaN -0.024375  \n",
       "2005-02  -0.020266        NaN  0.021044  \n",
       "2005-03   0.044176        NaN -0.017708  \n",
       "2005-04   0.014633        NaN -0.018966  \n",
       "\n",
       "[5 rows x 506 columns]"
      ]
     },
     "execution_count": 6,
     "metadata": {},
     "output_type": "execute_result"
    }
   ],
   "source": [
    "df_ret.head()"
   ]
  },
  {
   "cell_type": "code",
   "execution_count": 7,
   "metadata": {},
   "outputs": [
    {
     "data": {
      "text/html": [
       "<div>\n",
       "<style scoped>\n",
       "    .dataframe tbody tr th:only-of-type {\n",
       "        vertical-align: middle;\n",
       "    }\n",
       "\n",
       "    .dataframe tbody tr th {\n",
       "        vertical-align: top;\n",
       "    }\n",
       "\n",
       "    .dataframe thead th {\n",
       "        text-align: right;\n",
       "    }\n",
       "</style>\n",
       "<table border=\"1\" class=\"dataframe\">\n",
       "  <thead>\n",
       "    <tr style=\"text-align: right;\">\n",
       "      <th></th>\n",
       "      <th>88579Y101</th>\n",
       "      <th>002824100</th>\n",
       "      <th>00287Y109</th>\n",
       "      <th>003654100</th>\n",
       "      <th>G1151C101</th>\n",
       "      <th>00507V109</th>\n",
       "      <th>00724F101</th>\n",
       "      <th>00751Y106</th>\n",
       "      <th>007903107</th>\n",
       "      <th>00130H105</th>\n",
       "      <th>...</th>\n",
       "      <th>G96629103</th>\n",
       "      <th>983134107</th>\n",
       "      <th>98389B100</th>\n",
       "      <th>984121608</th>\n",
       "      <th>983919101</th>\n",
       "      <th>98419M100</th>\n",
       "      <th>988498101</th>\n",
       "      <th>98956P102</th>\n",
       "      <th>989701107</th>\n",
       "      <th>98978V103</th>\n",
       "    </tr>\n",
       "  </thead>\n",
       "  <tbody>\n",
       "    <tr>\n",
       "      <th>2004-12</th>\n",
       "      <td>0.031157</td>\n",
       "      <td>0.111774</td>\n",
       "      <td>NaN</td>\n",
       "      <td>0.017128</td>\n",
       "      <td>0.040864</td>\n",
       "      <td>0.283695</td>\n",
       "      <td>0.036202</td>\n",
       "      <td>0.058640</td>\n",
       "      <td>0.034774</td>\n",
       "      <td>0.116830</td>\n",
       "      <td>...</td>\n",
       "      <td>0.092662</td>\n",
       "      <td>0.152006</td>\n",
       "      <td>0.019205</td>\n",
       "      <td>0.110313</td>\n",
       "      <td>-0.049645</td>\n",
       "      <td>NaN</td>\n",
       "      <td>0.039209</td>\n",
       "      <td>-0.018137</td>\n",
       "      <td>0.023007</td>\n",
       "      <td>NaN</td>\n",
       "    </tr>\n",
       "    <tr>\n",
       "      <th>2005-01</th>\n",
       "      <td>0.027904</td>\n",
       "      <td>-0.029596</td>\n",
       "      <td>NaN</td>\n",
       "      <td>-0.230570</td>\n",
       "      <td>-0.035185</td>\n",
       "      <td>0.119934</td>\n",
       "      <td>-0.093083</td>\n",
       "      <td>-0.013290</td>\n",
       "      <td>-0.282470</td>\n",
       "      <td>0.027798</td>\n",
       "      <td>...</td>\n",
       "      <td>-0.060481</td>\n",
       "      <td>-0.020323</td>\n",
       "      <td>-0.000551</td>\n",
       "      <td>-0.066431</td>\n",
       "      <td>-0.016181</td>\n",
       "      <td>NaN</td>\n",
       "      <td>-0.015457</td>\n",
       "      <td>-0.015851</td>\n",
       "      <td>-0.003086</td>\n",
       "      <td>NaN</td>\n",
       "    </tr>\n",
       "    <tr>\n",
       "      <th>2005-02</th>\n",
       "      <td>0.000000</td>\n",
       "      <td>0.021544</td>\n",
       "      <td>NaN</td>\n",
       "      <td>-0.099327</td>\n",
       "      <td>-0.019194</td>\n",
       "      <td>-0.032755</td>\n",
       "      <td>0.085239</td>\n",
       "      <td>0.168935</td>\n",
       "      <td>0.104430</td>\n",
       "      <td>0.191459</td>\n",
       "      <td>...</td>\n",
       "      <td>0.022492</td>\n",
       "      <td>0.091672</td>\n",
       "      <td>-0.025838</td>\n",
       "      <td>-0.017632</td>\n",
       "      <td>0.036344</td>\n",
       "      <td>NaN</td>\n",
       "      <td>0.052425</td>\n",
       "      <td>0.089410</td>\n",
       "      <td>-0.020266</td>\n",
       "      <td>NaN</td>\n",
       "    </tr>\n",
       "    <tr>\n",
       "      <th>2005-03</th>\n",
       "      <td>0.020851</td>\n",
       "      <td>0.013701</td>\n",
       "      <td>NaN</td>\n",
       "      <td>-0.011215</td>\n",
       "      <td>-0.054795</td>\n",
       "      <td>-0.097282</td>\n",
       "      <td>0.087979</td>\n",
       "      <td>0.001370</td>\n",
       "      <td>-0.076218</td>\n",
       "      <td>-0.021505</td>\n",
       "      <td>...</td>\n",
       "      <td>-0.062187</td>\n",
       "      <td>-0.053514</td>\n",
       "      <td>-0.018331</td>\n",
       "      <td>-0.028847</td>\n",
       "      <td>-0.032118</td>\n",
       "      <td>NaN</td>\n",
       "      <td>0.062115</td>\n",
       "      <td>-0.094179</td>\n",
       "      <td>0.044176</td>\n",
       "      <td>NaN</td>\n",
       "    </tr>\n",
       "    <tr>\n",
       "      <th>2005-04</th>\n",
       "      <td>-0.107604</td>\n",
       "      <td>0.060518</td>\n",
       "      <td>NaN</td>\n",
       "      <td>-0.040643</td>\n",
       "      <td>-0.101449</td>\n",
       "      <td>-0.022973</td>\n",
       "      <td>-0.114637</td>\n",
       "      <td>0.057503</td>\n",
       "      <td>-0.117246</td>\n",
       "      <td>-0.018315</td>\n",
       "      <td>...</td>\n",
       "      <td>-0.092758</td>\n",
       "      <td>-0.218482</td>\n",
       "      <td>0.000000</td>\n",
       "      <td>-0.125413</td>\n",
       "      <td>-0.078343</td>\n",
       "      <td>NaN</td>\n",
       "      <td>-0.091828</td>\n",
       "      <td>0.046395</td>\n",
       "      <td>0.014633</td>\n",
       "      <td>NaN</td>\n",
       "    </tr>\n",
       "  </tbody>\n",
       "</table>\n",
       "<p>5 rows × 505 columns</p>\n",
       "</div>"
      ],
      "text/plain": [
       "         88579Y101  002824100  00287Y109  003654100  G1151C101  00507V109  \\\n",
       "2004-12   0.031157   0.111774        NaN   0.017128   0.040864   0.283695   \n",
       "2005-01   0.027904  -0.029596        NaN  -0.230570  -0.035185   0.119934   \n",
       "2005-02   0.000000   0.021544        NaN  -0.099327  -0.019194  -0.032755   \n",
       "2005-03   0.020851   0.013701        NaN  -0.011215  -0.054795  -0.097282   \n",
       "2005-04  -0.107604   0.060518        NaN  -0.040643  -0.101449  -0.022973   \n",
       "\n",
       "         00724F101  00751Y106  007903107  00130H105    ...      G96629103  \\\n",
       "2004-12   0.036202   0.058640   0.034774   0.116830    ...       0.092662   \n",
       "2005-01  -0.093083  -0.013290  -0.282470   0.027798    ...      -0.060481   \n",
       "2005-02   0.085239   0.168935   0.104430   0.191459    ...       0.022492   \n",
       "2005-03   0.087979   0.001370  -0.076218  -0.021505    ...      -0.062187   \n",
       "2005-04  -0.114637   0.057503  -0.117246  -0.018315    ...      -0.092758   \n",
       "\n",
       "         983134107  98389B100  984121608  983919101  98419M100  988498101  \\\n",
       "2004-12   0.152006   0.019205   0.110313  -0.049645        NaN   0.039209   \n",
       "2005-01  -0.020323  -0.000551  -0.066431  -0.016181        NaN  -0.015457   \n",
       "2005-02   0.091672  -0.025838  -0.017632   0.036344        NaN   0.052425   \n",
       "2005-03  -0.053514  -0.018331  -0.028847  -0.032118        NaN   0.062115   \n",
       "2005-04  -0.218482   0.000000  -0.125413  -0.078343        NaN  -0.091828   \n",
       "\n",
       "         98956P102  989701107  98978V103  \n",
       "2004-12  -0.018137   0.023007        NaN  \n",
       "2005-01  -0.015851  -0.003086        NaN  \n",
       "2005-02   0.089410  -0.020266        NaN  \n",
       "2005-03  -0.094179   0.044176        NaN  \n",
       "2005-04   0.046395   0.014633        NaN  \n",
       "\n",
       "[5 rows x 505 columns]"
      ]
     },
     "execution_count": 7,
     "metadata": {},
     "output_type": "execute_result"
    }
   ],
   "source": [
    "stocks_ret.head()"
   ]
  },
  {
   "cell_type": "markdown",
   "metadata": {},
   "source": [
    "### *Build the Portfolio*"
   ]
  },
  {
   "cell_type": "code",
   "execution_count": 8,
   "metadata": {},
   "outputs": [],
   "source": [
    "import statsmodels.api as sm"
   ]
  },
  {
   "cell_type": "code",
   "execution_count": 9,
   "metadata": {},
   "outputs": [],
   "source": [
    "# Define regression function given sample period to get alpha\n",
    "def regression(data):\n",
    "    X = data.drop('market',axis=1)\n",
    "    Y = data['market']\n",
    "    \n",
    "    # Get the array of alpha and beta for differnt stocks\n",
    "    # During the same sample period    \n",
    "    a = []\n",
    "    \n",
    "    for i in X.columns:\n",
    "        # we cannot run a regression when all values are NAN\n",
    "        if np.nansum(X[i]) == 0:\n",
    "            alpha = np.nan\n",
    "        else:\n",
    "            x = sm.add_constant(X[i])\n",
    "            models = sm.OLS(Y,x,missing='drop').fit()\n",
    "            alpha = models.params[0]\n",
    "        a = np.hstack((a,alpha)) \n",
    "        \n",
    "    return a\n",
    "\n",
    "\n",
    "# Define windows function\n",
    "\n",
    "def rollingwins(data,periods):\n",
    "    return [data[i-periods:i] for i in range(periods,data.shape[0]+1)]\n"
   ]
  },
  {
   "cell_type": "code",
   "execution_count": 10,
   "metadata": {},
   "outputs": [],
   "source": [
    "# number of stocks\n",
    "num_stock=df_price.shape[1];\n",
    "\n",
    "# look-back period for observing stock beta\n",
    "# in default, we'll use past 36 months\n",
    "periods=3*12"
   ]
  },
  {
   "cell_type": "code",
   "execution_count": 11,
   "metadata": {},
   "outputs": [],
   "source": [
    "# Rolling windows regression\n",
    "wins = rollingwins(df_ret,periods)"
   ]
  },
  {
   "cell_type": "code",
   "execution_count": 12,
   "metadata": {},
   "outputs": [],
   "source": [
    "# Get the alpha for each stock during the same time \n",
    "alpha = [regression(win) for win in wins]"
   ]
  },
  {
   "cell_type": "code",
   "execution_count": 13,
   "metadata": {},
   "outputs": [],
   "source": [
    "df_alpha = pd.DataFrame(alpha,columns=df_price.columns)\n",
    "df_alpha = df_alpha.set_index(df_ret[periods-1:].index)"
   ]
  },
  {
   "cell_type": "code",
   "execution_count": 14,
   "metadata": {},
   "outputs": [],
   "source": [
    "# Asset Selection \n",
    "def asset_selection_top(data,quantile):\n",
    "    # The quantile doesn't include the NaN\n",
    "    data.dropna(inplace=True)\n",
    "    n = len(data)\n",
    "    data = data.sort_values(ascending=False)\n",
    "    x = data[:int(n*quantile)+1].index\n",
    "    return x\n",
    "\n",
    "def asset_selection_bottom(data,quantile):\n",
    "    # The quantile doesn't include the NaN\n",
    "    data.dropna(inplace=True)\n",
    "    n = len(data)\n",
    "    data = data.sort_values(ascending=True)\n",
    "    x = data[:int(n*quantile)+1].index\n",
    "    return x"
   ]
  },
  {
   "cell_type": "code",
   "execution_count": 15,
   "metadata": {},
   "outputs": [
    {
     "data": {
      "text/plain": [
       "Index(['90384S303', '254709108', '410345102', '101137107', '526057104',\n",
       "       '745867101', '23331A109', '57772K101', '14040H105', '269246401',\n",
       "       ...\n",
       "       '256746108', '09062X103', '478160104', '55616P104', '579780206',\n",
       "       '832696405', '609207105', '88579Y101', '723484101', '756577102'],\n",
       "      dtype='object', length=125)"
      ]
     },
     "execution_count": 15,
     "metadata": {},
     "output_type": "execute_result"
    }
   ],
   "source": [
    "# Question?\n",
    "# The quantile includes the NaN\n",
    "date1 = df_alpha.iloc[0]\n",
    "\n",
    "m = date1.sort_values(ascending=False)\n",
    "\n",
    "m[:125].index"
   ]
  },
  {
   "cell_type": "code",
   "execution_count": 16,
   "metadata": {},
   "outputs": [
    {
     "data": {
      "text/plain": [
       "Index(['90384S303', '254709108', '410345102', '101137107', '526057104',\n",
       "       '745867101', '23331A109', '57772K101', '14040H105', '269246401',\n",
       "       ...\n",
       "       '31428X106', '48203R104', '770323103', '45337C102', '532457108',\n",
       "       '500255104', '713448108', 'G0177J108', '83088M102', '747525103'],\n",
       "      dtype='object', length=113)"
      ]
     },
     "execution_count": 16,
     "metadata": {},
     "output_type": "execute_result"
    }
   ],
   "source": [
    "asset_selection_top(date1,0.25)"
   ]
  },
  {
   "cell_type": "code",
   "execution_count": 17,
   "metadata": {},
   "outputs": [],
   "source": [
    "asset_pool_buy = [asset_selection_top(df_alpha.iloc[i],0.25) for i in range(len(df_alpha)) ]\n",
    "asset_pool_sell = [asset_selection_bottom(df_alpha.iloc[i],0.25) for i in range(len(df_alpha)) ]"
   ]
  },
  {
   "cell_type": "code",
   "execution_count": 18,
   "metadata": {},
   "outputs": [
    {
     "data": {
      "text/plain": [
       "[Index(['90384S303', '254709108', '410345102', '101137107', '526057104',\n",
       "        '745867101', '23331A109', '57772K101', '14040H105', '269246401',\n",
       "        ...\n",
       "        '31428X106', '48203R104', '770323103', '45337C102', '532457108',\n",
       "        '500255104', '713448108', 'G0177J108', '83088M102', '747525103'],\n",
       "       dtype='object', length=113),\n",
       " Index(['254709108', '410345102', '101137107', '526057104', '745867101',\n",
       "        '14040H105', '269246401', '345370860', '316773100', '23331A109',\n",
       "        ...\n",
       "        '060505104', '285512109', '609207105', '713448108', '364760108',\n",
       "        '770323103', '620076307', '21036P108', '532457108', '87612E106'],\n",
       "       dtype='object', length=113)]"
      ]
     },
     "execution_count": 18,
     "metadata": {},
     "output_type": "execute_result"
    }
   ],
   "source": [
    "asset_pool_buy[:2]"
   ]
  },
  {
   "cell_type": "code",
   "execution_count": 19,
   "metadata": {},
   "outputs": [
    {
     "data": {
      "text/plain": [
       "[Index(['20605P101', 'H84989104', '540424108', '580135101', '40434L105',\n",
       "        '247361702', '59156R108', '032095101', '74144T108', '253868103',\n",
       "        ...\n",
       "        '22822V101', '501044101', '65339F101', '015271109', '674599105',\n",
       "        '001055102', '25179M103', '95040Q104', 'G0408V102', '023608102'],\n",
       "       dtype='object', length=113),\n",
       " Index(['90384S303', '20605P101', '55354G100', 'H84989104', '540424108',\n",
       "        '369550108', '580135101', '40434L105', '032095101', '302491303',\n",
       "        ...\n",
       "        'H1467J104', '097023105', '61945C103', '47233W109', '92939U106',\n",
       "        '828806109', '149123101', 'G87110105', '92276F100', '02079K305'],\n",
       "       dtype='object', length=113)]"
      ]
     },
     "execution_count": 19,
     "metadata": {},
     "output_type": "execute_result"
    }
   ],
   "source": [
    "asset_pool_sell[:2]"
   ]
  },
  {
   "cell_type": "code",
   "execution_count": 20,
   "metadata": {},
   "outputs": [],
   "source": [
    "# Portfolio construction and get its montly return\n",
    "# Strategy0: Buy the top 25% quantile stocks\n",
    "port_ret = []\n",
    "stocks_used_ret = stocks_ret[periods-1:].shift(-1)\n",
    "for i in range(len(stocks_used_ret)-1):\n",
    "    ret = stocks_used_ret.iloc[i+1]\n",
    "    buy = ret[asset_pool_buy[i]]\n",
    "    ret = np.sum(buy)/len(buy) \n",
    "    port_ret.append(ret)"
   ]
  },
  {
   "cell_type": "code",
   "execution_count": 21,
   "metadata": {},
   "outputs": [
    {
     "data": {
      "text/html": [
       "<div>\n",
       "<style scoped>\n",
       "    .dataframe tbody tr th:only-of-type {\n",
       "        vertical-align: middle;\n",
       "    }\n",
       "\n",
       "    .dataframe tbody tr th {\n",
       "        vertical-align: top;\n",
       "    }\n",
       "\n",
       "    .dataframe thead th {\n",
       "        text-align: right;\n",
       "    }\n",
       "</style>\n",
       "<table border=\"1\" class=\"dataframe\">\n",
       "  <thead>\n",
       "    <tr style=\"text-align: right;\">\n",
       "      <th></th>\n",
       "      <th>S0_return</th>\n",
       "      <th>S0_Value</th>\n",
       "    </tr>\n",
       "  </thead>\n",
       "  <tbody>\n",
       "    <tr>\n",
       "      <th>2007-12</th>\n",
       "      <td>0.002554</td>\n",
       "      <td>100.255436</td>\n",
       "    </tr>\n",
       "    <tr>\n",
       "      <th>2008-01</th>\n",
       "      <td>-0.044178</td>\n",
       "      <td>95.826311</td>\n",
       "    </tr>\n",
       "    <tr>\n",
       "      <th>2008-02</th>\n",
       "      <td>-0.011721</td>\n",
       "      <td>94.703144</td>\n",
       "    </tr>\n",
       "    <tr>\n",
       "      <th>2008-03</th>\n",
       "      <td>0.044876</td>\n",
       "      <td>98.953046</td>\n",
       "    </tr>\n",
       "    <tr>\n",
       "      <th>2008-04</th>\n",
       "      <td>0.017220</td>\n",
       "      <td>100.657058</td>\n",
       "    </tr>\n",
       "  </tbody>\n",
       "</table>\n",
       "</div>"
      ],
      "text/plain": [
       "         S0_return    S0_Value\n",
       "2007-12   0.002554  100.255436\n",
       "2008-01  -0.044178   95.826311\n",
       "2008-02  -0.011721   94.703144\n",
       "2008-03   0.044876   98.953046\n",
       "2008-04   0.017220  100.657058"
      ]
     },
     "execution_count": 21,
     "metadata": {},
     "output_type": "execute_result"
    }
   ],
   "source": [
    "port_ret = np.array(port_ret).reshape(-1,1)\n",
    "df_port = pd.DataFrame(port_ret,index = stocks_used_ret.index[1:])\n",
    "df_port = df_port.rename(columns = {0:'S0_return'})\n",
    "\n",
    "df_port['S0_Value'] = 100*(1+df_port['S0_return']).cumprod()\n",
    "df_port.head()"
   ]
  },
  {
   "cell_type": "code",
   "execution_count": 22,
   "metadata": {},
   "outputs": [
    {
     "data": {
      "text/html": [
       "<div>\n",
       "<style scoped>\n",
       "    .dataframe tbody tr th:only-of-type {\n",
       "        vertical-align: middle;\n",
       "    }\n",
       "\n",
       "    .dataframe tbody tr th {\n",
       "        vertical-align: top;\n",
       "    }\n",
       "\n",
       "    .dataframe thead th {\n",
       "        text-align: right;\n",
       "    }\n",
       "</style>\n",
       "<table border=\"1\" class=\"dataframe\">\n",
       "  <thead>\n",
       "    <tr style=\"text-align: right;\">\n",
       "      <th></th>\n",
       "      <th>S0_return</th>\n",
       "      <th>S0_Value</th>\n",
       "      <th>S1_return</th>\n",
       "      <th>S1_Value</th>\n",
       "    </tr>\n",
       "  </thead>\n",
       "  <tbody>\n",
       "    <tr>\n",
       "      <th>2007-12</th>\n",
       "      <td>0.002554</td>\n",
       "      <td>100.255436</td>\n",
       "      <td>0.084336</td>\n",
       "      <td>108.433646</td>\n",
       "    </tr>\n",
       "    <tr>\n",
       "      <th>2008-01</th>\n",
       "      <td>-0.044178</td>\n",
       "      <td>95.826311</td>\n",
       "      <td>-0.039822</td>\n",
       "      <td>104.115586</td>\n",
       "    </tr>\n",
       "    <tr>\n",
       "      <th>2008-02</th>\n",
       "      <td>-0.011721</td>\n",
       "      <td>94.703144</td>\n",
       "      <td>-0.007303</td>\n",
       "      <td>103.355179</td>\n",
       "    </tr>\n",
       "    <tr>\n",
       "      <th>2008-03</th>\n",
       "      <td>0.044876</td>\n",
       "      <td>98.953046</td>\n",
       "      <td>-0.028604</td>\n",
       "      <td>100.398849</td>\n",
       "    </tr>\n",
       "    <tr>\n",
       "      <th>2008-04</th>\n",
       "      <td>0.017220</td>\n",
       "      <td>100.657058</td>\n",
       "      <td>-0.026755</td>\n",
       "      <td>97.712692</td>\n",
       "    </tr>\n",
       "  </tbody>\n",
       "</table>\n",
       "</div>"
      ],
      "text/plain": [
       "         S0_return    S0_Value  S1_return    S1_Value\n",
       "2007-12   0.002554  100.255436   0.084336  108.433646\n",
       "2008-01  -0.044178   95.826311  -0.039822  104.115586\n",
       "2008-02  -0.011721   94.703144  -0.007303  103.355179\n",
       "2008-03   0.044876   98.953046  -0.028604  100.398849\n",
       "2008-04   0.017220  100.657058  -0.026755   97.712692"
      ]
     },
     "execution_count": 22,
     "metadata": {},
     "output_type": "execute_result"
    }
   ],
   "source": [
    "# Portfolio construction and get its montly return\n",
    "# Strategy1: Buy the top 25% quantile stocks and Sell the bottom 25% quantile stocks\n",
    "port_ret1 = []\n",
    "stocks_used_ret = stocks_ret[periods-1:].shift(-1)\n",
    "for i in range(len(stocks_used_ret)-1):\n",
    "    ret = stocks_used_ret.iloc[i+1]\n",
    "    buy = ret[asset_pool_buy[i]]\n",
    "    sell = ret[asset_pool_sell[i]]\n",
    "    buy_ret = np.sum(buy)/len(buy) \n",
    "    sell_ret = -np.sum(sell)/len(sell) \n",
    "    ret = buy_ret + sell_ret\n",
    "    port_ret1.append(ret)\n",
    "\n",
    "port_ret1 = np.array(port_ret1).reshape(-1,1)\n",
    "df_port['S1_return'] = port_ret1\n",
    "df_port['S1_Value'] = 100*(1+df_port['S1_return']).cumprod()\n",
    "df_port.head()"
   ]
  },
  {
   "cell_type": "markdown",
   "metadata": {},
   "source": [
    "### *Performance summary*"
   ]
  },
  {
   "cell_type": "code",
   "execution_count": 23,
   "metadata": {},
   "outputs": [],
   "source": [
    "def describePerformance(Data,alpha=0.05):\n",
    "    x = Data.describe()\n",
    "    x.drop(['25%','75%'], inplace=True)\n",
    "    x.loc['annualized ret'] = ((Data+1).prod())**(12/len(Data))\n",
    "    x.loc['annualized std'] = x.loc['std'] * np.sqrt(12)\n",
    "    x.loc['sharpe']  = x.loc['mean'] / x.loc['std'] * np.sqrt(12)\n",
    "    x.loc['fracpos'] = (Data>=0).mean()\n",
    "    x.loc['t score'] = (x.loc['mean'] / (x.loc['std'] * np.sqrt(len(Data))))\n",
    "    x.loc['VaR'] = Data.quantile(alpha)\n",
    "    x.loc['CVaR'] = Data[Data<=x.loc['VaR']].mean()\n",
    "    return x"
   ]
  },
  {
   "cell_type": "code",
   "execution_count": 24,
   "metadata": {},
   "outputs": [],
   "source": [
    "df_port['Market_return'] = spy_ret\n",
    "df_port['Market_Value'] = 100*(1+df_port['Market_return']).cumprod()"
   ]
  },
  {
   "cell_type": "code",
   "execution_count": 25,
   "metadata": {},
   "outputs": [
    {
     "data": {
      "text/html": [
       "<div>\n",
       "<style scoped>\n",
       "    .dataframe tbody tr th:only-of-type {\n",
       "        vertical-align: middle;\n",
       "    }\n",
       "\n",
       "    .dataframe tbody tr th {\n",
       "        vertical-align: top;\n",
       "    }\n",
       "\n",
       "    .dataframe thead th {\n",
       "        text-align: right;\n",
       "    }\n",
       "</style>\n",
       "<table border=\"1\" class=\"dataframe\">\n",
       "  <thead>\n",
       "    <tr style=\"text-align: right;\">\n",
       "      <th></th>\n",
       "      <th>S0_return</th>\n",
       "      <th>S0_Value</th>\n",
       "      <th>S1_return</th>\n",
       "      <th>S1_Value</th>\n",
       "      <th>Market_return</th>\n",
       "      <th>Market_Value</th>\n",
       "    </tr>\n",
       "  </thead>\n",
       "  <tbody>\n",
       "    <tr>\n",
       "      <th>2007-12</th>\n",
       "      <td>0.002554</td>\n",
       "      <td>100.255436</td>\n",
       "      <td>0.084336</td>\n",
       "      <td>108.433646</td>\n",
       "      <td>-0.006938</td>\n",
       "      <td>99.306237</td>\n",
       "    </tr>\n",
       "    <tr>\n",
       "      <th>2008-01</th>\n",
       "      <td>-0.044178</td>\n",
       "      <td>95.826311</td>\n",
       "      <td>-0.039822</td>\n",
       "      <td>104.115586</td>\n",
       "      <td>-0.059982</td>\n",
       "      <td>93.349687</td>\n",
       "    </tr>\n",
       "    <tr>\n",
       "      <th>2008-02</th>\n",
       "      <td>-0.011721</td>\n",
       "      <td>94.703144</td>\n",
       "      <td>-0.007303</td>\n",
       "      <td>103.355179</td>\n",
       "      <td>-0.032486</td>\n",
       "      <td>90.317152</td>\n",
       "    </tr>\n",
       "    <tr>\n",
       "      <th>2008-03</th>\n",
       "      <td>0.044876</td>\n",
       "      <td>98.953046</td>\n",
       "      <td>-0.028604</td>\n",
       "      <td>100.398849</td>\n",
       "      <td>-0.004318</td>\n",
       "      <td>89.927167</td>\n",
       "    </tr>\n",
       "    <tr>\n",
       "      <th>2008-04</th>\n",
       "      <td>0.017220</td>\n",
       "      <td>100.657058</td>\n",
       "      <td>-0.026755</td>\n",
       "      <td>97.712692</td>\n",
       "      <td>0.048703</td>\n",
       "      <td>94.306902</td>\n",
       "    </tr>\n",
       "  </tbody>\n",
       "</table>\n",
       "</div>"
      ],
      "text/plain": [
       "         S0_return    S0_Value  S1_return    S1_Value  Market_return  \\\n",
       "2007-12   0.002554  100.255436   0.084336  108.433646      -0.006938   \n",
       "2008-01  -0.044178   95.826311  -0.039822  104.115586      -0.059982   \n",
       "2008-02  -0.011721   94.703144  -0.007303  103.355179      -0.032486   \n",
       "2008-03   0.044876   98.953046  -0.028604  100.398849      -0.004318   \n",
       "2008-04   0.017220  100.657058  -0.026755   97.712692       0.048703   \n",
       "\n",
       "         Market_Value  \n",
       "2007-12     99.306237  \n",
       "2008-01     93.349687  \n",
       "2008-02     90.317152  \n",
       "2008-03     89.927167  \n",
       "2008-04     94.306902  "
      ]
     },
     "execution_count": 25,
     "metadata": {},
     "output_type": "execute_result"
    }
   ],
   "source": [
    "df_port.head()"
   ]
  },
  {
   "cell_type": "markdown",
   "metadata": {},
   "source": [
    "*Statistical Assessment*"
   ]
  },
  {
   "cell_type": "code",
   "execution_count": 26,
   "metadata": {},
   "outputs": [
    {
     "data": {
      "text/html": [
       "<div>\n",
       "<style scoped>\n",
       "    .dataframe tbody tr th:only-of-type {\n",
       "        vertical-align: middle;\n",
       "    }\n",
       "\n",
       "    .dataframe tbody tr th {\n",
       "        vertical-align: top;\n",
       "    }\n",
       "\n",
       "    .dataframe thead th {\n",
       "        text-align: right;\n",
       "    }\n",
       "</style>\n",
       "<table border=\"1\" class=\"dataframe\">\n",
       "  <thead>\n",
       "    <tr style=\"text-align: right;\">\n",
       "      <th></th>\n",
       "      <th>S0_return</th>\n",
       "      <th>S1_return</th>\n",
       "      <th>Market_return</th>\n",
       "    </tr>\n",
       "  </thead>\n",
       "  <tbody>\n",
       "    <tr>\n",
       "      <th>count</th>\n",
       "      <td>133.000000</td>\n",
       "      <td>133.000000</td>\n",
       "      <td>133.000000</td>\n",
       "    </tr>\n",
       "    <tr>\n",
       "      <th>mean</th>\n",
       "      <td>0.014217</td>\n",
       "      <td>0.003881</td>\n",
       "      <td>0.006711</td>\n",
       "    </tr>\n",
       "    <tr>\n",
       "      <th>std</th>\n",
       "      <td>0.063062</td>\n",
       "      <td>0.038859</td>\n",
       "      <td>0.043378</td>\n",
       "    </tr>\n",
       "    <tr>\n",
       "      <th>min</th>\n",
       "      <td>-0.214061</td>\n",
       "      <td>-0.065504</td>\n",
       "      <td>-0.167948</td>\n",
       "    </tr>\n",
       "    <tr>\n",
       "      <th>50%</th>\n",
       "      <td>0.016344</td>\n",
       "      <td>-0.001172</td>\n",
       "      <td>0.011119</td>\n",
       "    </tr>\n",
       "    <tr>\n",
       "      <th>max</th>\n",
       "      <td>0.368639</td>\n",
       "      <td>0.287937</td>\n",
       "      <td>0.109293</td>\n",
       "    </tr>\n",
       "    <tr>\n",
       "      <th>annualized ret</th>\n",
       "      <td>1.157981</td>\n",
       "      <td>1.038883</td>\n",
       "      <td>1.071339</td>\n",
       "    </tr>\n",
       "    <tr>\n",
       "      <th>annualized std</th>\n",
       "      <td>0.218453</td>\n",
       "      <td>0.134611</td>\n",
       "      <td>0.150266</td>\n",
       "    </tr>\n",
       "    <tr>\n",
       "      <th>sharpe</th>\n",
       "      <td>0.780974</td>\n",
       "      <td>0.345985</td>\n",
       "      <td>0.535914</td>\n",
       "    </tr>\n",
       "    <tr>\n",
       "      <th>fracpos</th>\n",
       "      <td>0.654135</td>\n",
       "      <td>0.481203</td>\n",
       "      <td>0.669173</td>\n",
       "    </tr>\n",
       "    <tr>\n",
       "      <th>t score</th>\n",
       "      <td>0.019549</td>\n",
       "      <td>0.008660</td>\n",
       "      <td>0.013415</td>\n",
       "    </tr>\n",
       "    <tr>\n",
       "      <th>VaR</th>\n",
       "      <td>-0.081250</td>\n",
       "      <td>-0.042582</td>\n",
       "      <td>-0.074993</td>\n",
       "    </tr>\n",
       "    <tr>\n",
       "      <th>CVaR</th>\n",
       "      <td>-0.134023</td>\n",
       "      <td>-0.057317</td>\n",
       "      <td>-0.100324</td>\n",
       "    </tr>\n",
       "  </tbody>\n",
       "</table>\n",
       "</div>"
      ],
      "text/plain": [
       "                 S0_return   S1_return  Market_return\n",
       "count           133.000000  133.000000     133.000000\n",
       "mean              0.014217    0.003881       0.006711\n",
       "std               0.063062    0.038859       0.043378\n",
       "min              -0.214061   -0.065504      -0.167948\n",
       "50%               0.016344   -0.001172       0.011119\n",
       "max               0.368639    0.287937       0.109293\n",
       "annualized ret    1.157981    1.038883       1.071339\n",
       "annualized std    0.218453    0.134611       0.150266\n",
       "sharpe            0.780974    0.345985       0.535914\n",
       "fracpos           0.654135    0.481203       0.669173\n",
       "t score           0.019549    0.008660       0.013415\n",
       "VaR              -0.081250   -0.042582      -0.074993\n",
       "CVaR             -0.134023   -0.057317      -0.100324"
      ]
     },
     "execution_count": 26,
     "metadata": {},
     "output_type": "execute_result"
    }
   ],
   "source": [
    "describePerformance(df_port[['S0_return','S1_return','Market_return']])"
   ]
  },
  {
   "cell_type": "code",
   "execution_count": 27,
   "metadata": {},
   "outputs": [
    {
     "data": {
      "text/plain": [
       "Text(0, 0.5, 'Portfolio Value')"
      ]
     },
     "execution_count": 27,
     "metadata": {},
     "output_type": "execute_result"
    },
    {
     "data": {
      "image/png": "[encoded data removed]",
      "text/plain": [
       "<Figure size 1440x360 with 1 Axes>"
      ]
     },
     "metadata": {
      "needs_background": "light"
     },
     "output_type": "display_data"
    }
   ],
   "source": [
    "plt.figure(figsize=(20,5))\n",
    "plt.plot(df_port['Market_Value'].to_timestamp(),label = 'Market Value')\n",
    "plt.plot(df_port['S0_Value'].to_timestamp(),label='Momentum Portfolio Value (Buy top quantil)')\n",
    "plt.plot(df_port['S1_Value'].to_timestamp(),label='Momentum Portfolio Value (Buy Top Quantil and Sell Bottom Quantile)')\n",
    "plt.legend()\n",
    "plt.xlabel('Time')\n",
    "plt.ylabel('Portfolio Value')"
   ]
  },
  {
   "cell_type": "markdown",
   "metadata": {},
   "source": [
    "*Maximum Drawdown*"
   ]
  },
  {
   "cell_type": "code",
   "execution_count": 30,
   "metadata": {},
   "outputs": [],
   "source": [
    "def Maximum_DD(data):\n",
    "    # Calculate daily MDD\n",
    "    window = len(data)\n",
    "    Roll_Max = data.rolling(window,min_periods=1).max()\n",
    "    Daily_DD = data/Roll_Max - 1.0\n",
    "    Max_Daily_DD = Daily_DD.rolling(window,min_periods=1).min()\n",
    "    # Locate when it happened\n",
    "    MaxDD = Max_Daily_DD.min()\n",
    "    MaxDD_d_date = Max_Daily_DD.idxmin()\n",
    "    MaxDD_d = data.loc[MaxDD_d_date]\n",
    "    MaxDD_u_date = data.loc[:MaxDD_d_date].idxmax()\n",
    "    MaxDD_u = data.loc[:MaxDD_d_date].max()\n",
    "    \n",
    "    print('The Maximum Drawdown is %f'% MaxDD)\n",
    "    print('When did the Maximum Drawdown happen :',str(MaxDD_d_date)[0:10])\n",
    "    print('When did the maximum price of the MDD happen: ',str(MaxDD_u_date)[0:10])\n",
    "    print('What the maximum price of the MDD : ',MaxDD_u)\n",
    "    print('What the minimum price of the MDD : ',MaxDD_d)\n",
    "    \n",
    "    return Daily_DD,Max_Daily_DD,MaxDD,MaxDD_d_date,MaxDD_u_date,MaxDD_u,MaxDD_d"
   ]
  },
  {
   "cell_type": "code",
   "execution_count": 31,
   "metadata": {},
   "outputs": [
    {
     "name": "stdout",
     "output_type": "stream",
     "text": [
      "The Maximum Drawdown is -0.490878\n",
      "When did the Maximum Drawdown happen : 2009-01\n",
      "When did the maximum price of the MDD happen:  2008-04\n",
      "What the maximum price of the MDD :  100.65705833625209\n",
      "What the minimum price of the MDD :  51.246753690544764\n"
     ]
    }
   ],
   "source": [
    "Daily_DD_0,Max_Daily_DD_0,MaxDD_0,MaxDD_d_date_0,MaxDD_u_date_0,MaxDD_u_0,MaxDD_d_0 = Maximum_DD(df_port['S0_Value'])"
   ]
  },
  {
   "cell_type": "code",
   "execution_count": 32,
   "metadata": {},
   "outputs": [
    {
     "name": "stdout",
     "output_type": "stream",
     "text": [
      "The Maximum Drawdown is -0.191735\n",
      "When did the Maximum Drawdown happen : 2018-01\n",
      "When did the maximum price of the MDD happen:  2016-10\n",
      "What the maximum price of the MDD :  179.68626484677253\n",
      "What the minimum price of the MDD :  145.23416872816642\n"
     ]
    }
   ],
   "source": [
    "Daily_DD_1,Max_Daily_DD_1,MaxDD_1,MaxDD_d_date_1,MaxDD_u_date_1,MaxDD_u_1,MaxDD_d_1 = Maximum_DD(df_port['S1_Value'])"
   ]
  },
  {
   "cell_type": "code",
   "execution_count": 33,
   "metadata": {},
   "outputs": [
    {
     "name": "stdout",
     "output_type": "stream",
     "text": [
      "The Maximum Drawdown is -0.484510\n",
      "When did the Maximum Drawdown happen : 2009-02\n",
      "When did the maximum price of the MDD happen:  2007-12\n",
      "What the maximum price of the MDD :  99.306237\n",
      "What the minimum price of the MDD :  51.191402527845334\n"
     ]
    }
   ],
   "source": [
    "Daily_DD_m,Max_Daily_DD_m,MaxDD_m,MaxDD_d_date_m,MaxDD_u_date_m,MaxDD_u_m,MaxDD_d_m = Maximum_DD(df_port['Market_Value'])"
   ]
  },
  {
   "cell_type": "code",
   "execution_count": 34,
   "metadata": {},
   "outputs": [
    {
     "data": {
      "text/plain": [
       "<matplotlib.legend.Legend at 0x1c20f8cc50>"
      ]
     },
     "execution_count": 34,
     "metadata": {},
     "output_type": "execute_result"
    },
    {
     "data": {
      "image/png": "[encoded data removed]",
      "text/plain": [
       "<Figure size 1440x864 with 2 Axes>"
      ]
     },
     "metadata": {
      "needs_background": "light"
     },
     "output_type": "display_data"
    }
   ],
   "source": [
    "fig = plt.figure(figsize=(20,12))\n",
    "ax1 = fig.add_subplot(2,1,2)\n",
    "ax2 = fig.add_subplot(2,1,1)\n",
    "ax1.plot(Max_Daily_DD_m.to_timestamp(),label='Market Max Daily Drawdown',c='m',lw=1)\n",
    "ax1.plot(Daily_DD_m.to_timestamp(),label='Market Daily Drawdown',c='m',linewidth=1)\n",
    "ax1.plot(Max_Daily_DD_0.to_timestamp(),label='Strategy0(only buy top) Max Daily Drawdown',c='g',lw=1)\n",
    "ax1.plot(Daily_DD_0.to_timestamp(),label='Strategy0(only buy top) Daily Drawdown',c='g',linewidth=1)\n",
    "ax1.plot(Max_Daily_DD_1.to_timestamp(),label='Strategy1(buy top & sell bottom) Max Daily Drawdown',c='r',lw=1)\n",
    "ax1.plot(Daily_DD_1.to_timestamp(),label='Strategy1(buy top & sell bottom)Daily Drawdown',c='r',linewidth=1)\n",
    "ax1.set_ylabel('Drawdown')\n",
    "ax1.legend(loc=4)\n",
    "\n",
    "ax2.plot(df_port['Market_Value'].to_timestamp(),label = 'Market Value',c='m',lw=1)\n",
    "ax2.plot(df_port['S0_Value'].to_timestamp(),label='Momentum Portfolio Value (Buy top quantil)',c='g',lw=1)\n",
    "ax2.plot(df_port['S1_Value'].to_timestamp(),label='Momentum Portfolio Value (Buy Top Quantil and Sell Bottom Quantile)',c='r',lw=1)\n",
    "ax2.legend()\n",
    "\n",
    "ax2.plot(MaxDD_d_date_0.to_timestamp(),MaxDD_d_0,marker=\"*\",c='g',ms=15)\n",
    "ax2.plot(MaxDD_u_date_0.to_timestamp(),MaxDD_u_0,marker=\"*\",c='g',ms=15)\n",
    "ax2.plot(MaxDD_d_date_1.to_timestamp(),MaxDD_d_1,marker=\"*\",c='r',ms=15)\n",
    "ax2.plot(MaxDD_u_date_1.to_timestamp(),MaxDD_u_1,marker=\"*\",c='r',ms=15)\n",
    "ax2.plot(MaxDD_d_date_m.to_timestamp(),MaxDD_d_m,marker=\"*\",c='m',ms=15)\n",
    "ax2.plot(MaxDD_u_date_m.to_timestamp(),MaxDD_u_m,marker=\"*\",c='m',ms=15)\n",
    "ax2.set_ylabel('Portfolio Value')\n",
    "ax2.legend(loc='upper left')"
   ]
  },
  {
   "cell_type": "code",
   "execution_count": null,
   "metadata": {},
   "outputs": [],
   "source": []
  }
 ],
 "metadata": {
  "kernelspec": {
   "display_name": "Python 3",
   "language": "python",
   "name": "python3"
  },
  "language_info": {
   "codemirror_mode": {
    "name": "ipython",
    "version": 3
   },
   "file_extension": ".py",
   "mimetype": "text/x-python",
   "name": "python",
   "nbconvert_exporter": "python",
   "pygments_lexer": "ipython3",
   "version": "3.7.1"
  }
 },
 "nbformat": 4,
 "nbformat_minor": 2
}
